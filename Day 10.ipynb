{
 "cells": [
  {
   "cell_type": "code",
   "execution_count": 36,
   "id": "6e3ead09",
   "metadata": {},
   "outputs": [],
   "source": [
    "ti ← ⊃⎕NGET 'day10ti.txt' 1\n",
    "pi ← ⊃⎕NGET 'day10.txt' 1"
   ]
  },
  {
   "cell_type": "code",
   "execution_count": 46,
   "id": "cef1ab81",
   "metadata": {},
   "outputs": [
    {
     "data": {
      "text/html": [
       "<pre class=\"language-APL\">1 5 ¯1 20 ¯14 ¯1 5 13 ¯12 3 3 3 1 4 0 0 1 0 0 4 0 ¯35 11 ¯1 ¯7 5 2 3 ¯2 2 5 5 0\n",
       "       0 ¯2 2 0 3 2 7 0 0 3 ¯2 ¯36 0 25 ¯22 7 0 ¯2 0 0 0 5 5 4 0 ¯2 5 ¯4 5 4 0 \n",
       "      ¯29 32 ¯23 ¯12 0 7 0 ¯2 4 3 20 3 ¯20 5 16 ¯15 6 0 0 0 5 0 5 0 0 0 ¯37 2 ¯\n",
       "      2 7 0 ¯2 5 2 3 ¯2 2 5 2 ¯6 ¯15 24 2 0 3 ¯8 15 ¯14 15 ¯38 0 0 21 ¯14 1 5 0\n",
       "       ¯2 7 ¯1 5 0 2 3 3 ¯2 4 2 ¯17 20 0 0 0 0\n",
       "</pre>"
      ]
     },
     "execution_count": 46,
     "metadata": {},
     "output_type": "execute_result"
    }
   ],
   "source": [
    "ops ← {{(+/''∘≢¨⍵)≥1: ⍎⍵ ⋄ 0}¨5↓¨⍵}pi\n",
    "ops"
   ]
  },
  {
   "cell_type": "code",
   "execution_count": 44,
   "id": "6eb5484e",
   "metadata": {},
   "outputs": [
    {
     "data": {
      "text/html": [
       "<pre class=\"language-APL\">1 16 16 5 5 11 11 8 8 13 13 12 12 4 4 17 17 21 21 21 20 20 25 25 24 24 29 29 28\n",
       "       28 33 33 32 32 37 37 36 36 1 1 2 2 26 26 7 7 8 8 24 24 13 13 13 13 34 34\n",
       "       19 19 19 19 16 16 25 25 26 26 23 23 31 31 32 32 37 37 37 37 37 37 37 1 1\n",
       "       1 2 2 9 9 9 9 9 11 11 17 17 17 17 17 17 17 18 18 18 18 25 25 26 26 26 13\n",
       "       13 26 26 33 33 33 34 34 1 1 1 1 1 3 3 3 3 3 11 11 11 10 10 12 12 13 13 1\n",
       "      3 30 30 21 21 22 22 23 23 20 20 31 31 31 31 32 32 32 33 33 33 33 20 20 1 \n",
       "      1 2 2 5 5 31 31 1 1 13 13 12 12 15 15 16 16 16 16 16 7 7 25 25 26 26 28 2\n",
       "      8 28 28 37 37 37 37 37 36 36 38 38 1 1 2 2 5 5 5 20 20 ¯1 ¯1 21 21 15 15 \n",
       "      16 16 16 18 18 19 19 19 9 9 9 9 29 29 30 30 32 32 34 34 28 28 17 17 17 17\n",
       "</pre>"
      ]
     },
     "execution_count": 44,
     "metadata": {},
     "output_type": "execute_result"
    }
   ],
   "source": [
    "1+¨+\\∊{0≠⍵: 0,⍵ ⋄ ⍵}¨ops"
   ]
  },
  {
   "cell_type": "code",
   "execution_count": 33,
   "id": "fdfd6ab6",
   "metadata": {},
   "outputs": [
    {
     "data": {
      "text/html": [
       "<pre class=\"language-APL\">16\n",
       "</pre>"
      ]
     },
     "execution_count": 33,
     "metadata": {},
     "output_type": "execute_result"
    }
   ],
   "source": [
    "180⌷(1+¨+\\∊{0≠⍵: 0,⍵ ⋄ ⍵}¨ops)"
   ]
  },
  {
   "cell_type": "code",
   "execution_count": 48,
   "id": "ec6f81f2",
   "metadata": {},
   "outputs": [
    {
     "data": {
      "text/html": [
       "<pre class=\"language-APL\">17380\n",
       "</pre>"
      ]
     },
     "execution_count": 48,
     "metadata": {},
     "output_type": "execute_result"
    }
   ],
   "source": [
    "part1 ← +/(20,20+¨40×¨⍳5)×(⊂¯1+¨(20,20+¨40×¨⍳5))⌷(1+¨+\\∊{0≠⍵: 0,⍵ ⋄ ⍵}¨ops)\n",
    "part1"
   ]
  },
  {
   "cell_type": "code",
   "execution_count": 59,
   "id": "90ae420a",
   "metadata": {},
   "outputs": [],
   "source": [
    "⎕IO ← 0"
   ]
  },
  {
   "cell_type": "code",
   "execution_count": 70,
   "id": "488c39f4",
   "metadata": {},
   "outputs": [],
   "source": [
    "]dinput\n",
    "part2 ← {\n",
    "    crt ← 6 40⍴'.'\n",
    "    '#'@(⊂0 0) ⊢crt\n",
    "    row ← 120 | 40\n",
    "}"
   ]
  },
  {
   "cell_type": "code",
   "execution_count": 76,
   "id": "48d2907f",
   "metadata": {},
   "outputs": [
    {
     "data": {
      "text/html": [
       "<pre class=\"language-APL\">0 0 1\n",
       "1 1 1\n",
       "0 1 0\n",
       "1 1 0\n",
       "</pre>"
      ]
     },
     "execution_count": 76,
     "metadata": {},
     "output_type": "execute_result"
    }
   ],
   "source": [
    "2 2 2 2 ⊤ 5 7 12 "
   ]
  },
  {
   "cell_type": "code",
   "execution_count": 69,
   "id": "28f66c16",
   "metadata": {},
   "outputs": [
    {
     "data": {
      "text/html": [
       "<pre class=\"language-APL\">#.......................................\n",
       "........................................\n",
       "........................................\n",
       "........................................\n",
       "........................................\n",
       "........................................\n",
       "</pre>"
      ]
     },
     "execution_count": 69,
     "metadata": {},
     "output_type": "execute_result"
    }
   ],
   "source": [
    "part2 ''"
   ]
  }
 ],
 "metadata": {
  "kernelspec": {
   "display_name": "Dyalog APL",
   "language": "apl",
   "name": "dyalog-kernel"
  },
  "language_info": {
   "file_extension": ".apl",
   "mimetype": "text/apl",
   "name": "APL"
  }
 },
 "nbformat": 4,
 "nbformat_minor": 5
}
