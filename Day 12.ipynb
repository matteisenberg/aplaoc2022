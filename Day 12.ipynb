{
 "cells": [
  {
   "cell_type": "code",
   "execution_count": 2,
   "id": "99f68610",
   "metadata": {},
   "outputs": [],
   "source": [
    "ti ← ⊃⎕NGET 'day12ti.txt' 1\n",
    "pi ← ⊃⎕NGET 'day12.txt' 1\n",
    "⎕IO ← 0"
   ]
  },
  {
   "cell_type": "code",
   "execution_count": 3,
   "id": "1c237753",
   "metadata": {},
   "outputs": [],
   "source": [
    "cmat ← ↑ti\n",
    "spoint ← ⊃⍸'S'=cmat\n",
    "epoint ← ⊃⍸'E'=cmat\n",
    "getelev ← {⍵='S': 0 ⋄ ⍵='E': 25 ⋄ 'abcdefghijklmnopqrstuvwxyz'⍳⍵}\n",
    "emat ← getelev¨cmat"
   ]
  },
  {
   "cell_type": "code",
   "execution_count": 4,
   "id": "86ab5a0e",
   "metadata": {},
   "outputs": [],
   "source": [
    "]dinput\n",
    "neighbors ← {\n",
    "    all ← ⍵∘+¨(¯1 0) (0 ¯1) (1 0) (0 1) \n",
    "    ((0≤⊃¨all)∧(0≤1⊃¨all))/all ⍝ return possible NSEW neighbors, filtering out neighbors off board\n",
    "}"
   ]
  },
  {
   "cell_type": "code",
   "execution_count": 5,
   "id": "b179e4dd",
   "metadata": {},
   "outputs": [],
   "source": [
    "]dinput\n",
    "moves ← {\n",
    "    ⍝ given a set of coordinates, return possible next moves\n",
    "    ce ← (⍵)⊃emat      ⍝ current elevation\n",
    "    ns ← neighbors ⊃⍵    ⍝ get the neighbors\n",
    "    es ← {(⊂⍵)⊃emat}¨ns ⍝ get the neighbors' elevations\n",
    "    emask ← {(¯1+ce)≤⍵∧⍵≤(1+ce)}¨es ⍝ create elevation mask\n",
    "    emask/ns ⍝ return possible moves\n",
    "}"
   ]
  },
  {
   "cell_type": "code",
   "execution_count": 168,
   "id": "d208def4",
   "metadata": {},
   "outputs": [],
   "source": [
    "]dinput\n",
    "step ← {\n",
    "lom ← ⍵\n",
    "    ⎕ ← ⍵\n",
    "    pos ← moves ¯1↑lom       ⍝ get the last position from the list of moves made\n",
    "    new ← (~pos∊lom)/pos     ⍝ remove moves we've already made\n",
    "    {lom,⊂⍵}¨new\n",
    "}"
   ]
  },
  {
   "cell_type": "code",
   "execution_count": 139,
   "id": "414f8377",
   "metadata": {},
   "outputs": [
    {
     "data": {
      "text/html": [
       "<pre class=\"language-APL\">┌─────────────────┬─────────────────┐\n",
       "│┌───┬───┬───┬───┐│┌───┬───┬───┬───┐│\n",
       "││0 0│1 0│2 0│3 0│││0 0│1 0│2 0│2 1││\n",
       "│└───┴───┴───┴───┘│└───┴───┴───┴───┘│\n",
       "└─────────────────┴─────────────────┘\n",
       "</pre>"
      ]
     },
     "execution_count": 139,
     "metadata": {},
     "output_type": "execute_result"
    }
   ],
   "source": [
    "step (0 0)(1 0)(2 0)"
   ]
  },
  {
   "cell_type": "code",
   "execution_count": 169,
   "id": "7a42d085",
   "metadata": {},
   "outputs": [
    {
     "data": {
      "text/html": [
       "<pre class=\"language-APL\">┌───┐\n",
       "│0 0│\n",
       "└───┘\n",
       "</pre>"
      ]
     },
     "execution_count": 169,
     "metadata": {},
     "output_type": "execute_result"
    },
    {
     "data": {
      "text/html": [
       "<pre class=\"language-APL\">┌───┬───┐\n",
       "│0 0│1 0│\n",
       "└───┴───┘\n",
       "┌───┬───┐\n",
       "│0 0│0 1│\n",
       "└───┴───┘\n",
       "</pre>"
      ]
     },
     "execution_count": 169,
     "metadata": {},
     "output_type": "execute_result"
    },
    {
     "data": {
      "text/html": [
       "<pre class=\"language-APL\">┌───┬───┬───┐\n",
       "│0 0│1 0│2 0│\n",
       "└───┴───┴───┘\n",
       "┌───┬───┬───┐\n",
       "│0 0│1 0│1 1│\n",
       "└───┴───┴───┘\n",
       "┌───┬───┬───┐\n",
       "│0 0│0 1│1 1│\n",
       "└───┴───┴───┘\n",
       "┌───┬───┬───┐\n",
       "│0 0│0 1│0 2│\n",
       "└───┴───┴───┘\n",
       "</pre>"
      ]
     },
     "execution_count": 169,
     "metadata": {},
     "output_type": "execute_result"
    },
    {
     "data": {
      "text/html": [
       "<pre class=\"language-APL\">┌───┬───┬───┬───┐\n",
       "│0 0│1 0│2 0│3 0│\n",
       "└───┴───┴───┴───┘\n",
       "┌───┬───┬───┬───┐\n",
       "│0 0│1 0│2 0│2 1│\n",
       "└───┴───┴───┴───┘\n",
       "┌───┬───┬───┬───┐\n",
       "│0 0│1 0│1 1│0 1│\n",
       "└───┴───┴───┴───┘\n",
       "┌───┬───┬───┬───┐\n",
       "│0 0│1 0│1 1│2 1│\n",
       "└───┴───┴───┴───┘\n",
       "┌───┬───┬───┬───┐\n",
       "│0 0│1 0│1 1│1 2│\n",
       "└───┴───┴───┴───┘\n",
       "┌───┬───┬───┬───┐\n",
       "│0 0│0 1│1 1│1 0│\n",
       "└───┴───┴───┴───┘\n",
       "┌───┬───┬───┬───┐\n",
       "│0 0│0 1│1 1│2 1│\n",
       "└───┴───┴───┴───┘\n",
       "┌───┬───┬───┬───┐\n",
       "│0 0│0 1│1 1│1 2│\n",
       "└───┴───┴───┴───┘\n",
       "┌───┬───┬───┬───┐\n",
       "│0 0│0 1│0 2│1 2│\n",
       "└───┴───┴───┴───┘\n",
       "┌───┬───┬───┬───┐\n",
       "│0 0│0 1│0 2│0 3│\n",
       "└───┴───┴───┴───┘\n",
       "</pre>"
      ]
     },
     "execution_count": 169,
     "metadata": {},
     "output_type": "execute_result"
    },
    {
     "name": "stderr",
     "output_type": "stream",
     "text": [
      "┌───┬───┬───┬───┬───┐\n",
      "│0 0│1 0│2 0│3 0│4 0│\n",
      "└───┴───┴───┴───┴───┘\n",
      "INDEX ERROR\n",
      "moves[4] es←{(⊂⍵)⊃emat}¨ns ⍝ get the neighbors' elevations\n",
      "                 ∧\n"
     ]
    }
   ],
   "source": [
    "w ← (⊂0 0)\n",
    "x ← step w\n",
    "y ← step¨x\n",
    "z ← step¨⊃,/y\n",
    "a ← step¨⊃,/z\n",
    "step¨⊃,/a\n"
   ]
  },
  {
   "cell_type": "code",
   "execution_count": null,
   "id": "03c5089e",
   "metadata": {},
   "outputs": [],
   "source": []
  }
 ],
 "metadata": {
  "kernelspec": {
   "display_name": "Dyalog APL",
   "language": "apl",
   "name": "dyalog-kernel"
  },
  "language_info": {
   "file_extension": ".apl",
   "mimetype": "text/apl",
   "name": "APL"
  }
 },
 "nbformat": 4,
 "nbformat_minor": 5
}
