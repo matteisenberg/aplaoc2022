{
 "cells": [
  {
   "cell_type": "code",
   "execution_count": 189,
   "id": "99f68610",
   "metadata": {},
   "outputs": [
    {
     "data": {
      "text/html": [
       "<pre class=\"language-APL\">Was ON\n",
       "</pre>"
      ]
     },
     "execution_count": 189,
     "metadata": {},
     "output_type": "execute_result"
    }
   ],
   "source": [
    "ti ← ⊃⎕NGET 'day12ti.txt' 1\n",
    "pi ← ⊃⎕NGET 'day12.txt' 1\n",
    "]rows off\n",
    "⎕IO ← 0"
   ]
  },
  {
   "cell_type": "code",
   "execution_count": 192,
   "id": "1c237753",
   "metadata": {},
   "outputs": [],
   "source": [
    "cmat ← ↑ti\n",
    "spoint ← ⊃⍸'S'=cmat\n",
    "epoint ← ⊃⍸'E'=cmat\n",
    "getelev ← {⍵='S': 0 ⋄ ⍵='E': 25 ⋄ 'abcdefghijklmnopqrstuvwxyz'⍳⍵}\n",
    "emat ← getelev¨cmat\n",
    "valpos ← ,⍳⍴cmat ⍝ valid coordinates in the matrix"
   ]
  },
  {
   "cell_type": "code",
   "execution_count": 201,
   "id": "86ab5a0e",
   "metadata": {},
   "outputs": [],
   "source": [
    "]dinput\n",
    "neighbors ← {\n",
    "    all ← ⍵∘+¨(¯1 0) (0 ¯1) (1 0) (0 1) \n",
    "    all∩valpos ⍝ return possible NSEW neighbors \n",
    "}"
   ]
  },
  {
   "cell_type": "code",
   "execution_count": 194,
   "id": "b179e4dd",
   "metadata": {},
   "outputs": [],
   "source": [
    "]dinput\n",
    "moves ← {\n",
    "    ⍝ given a coordinate point, return possible next moves\n",
    "    ce ← (⍵)⊃emat      ⍝ current elevation\n",
    "    ns ← neighbors ⊃⍵    ⍝ get the neighbors\n",
    "    es ← {(⊂⍵)⊃emat}¨ns ⍝ get the neighbors' elevations\n",
    "    emask ← {((¯1+ce)≤⍵)∧(⍵≤(1+ce))}¨es ⍝ create elevation mask\n",
    "    emask/ns ⍝ return possible moves\n",
    "}"
   ]
  },
  {
   "cell_type": "code",
   "execution_count": 215,
   "id": "d208def4",
   "metadata": {},
   "outputs": [],
   "source": [
    "]dinput\n",
    "step ← {\n",
    "    lom ← ⍵\n",
    "    pos ← moves ¯1↑lom       ⍝ get the last position from the list of moves made\n",
    "    new ← (~pos∊lom)/pos     ⍝ remove moves we've already made\n",
    "    {lom,(⊂⍵)}¨new\n",
    "}"
   ]
  },
  {
   "cell_type": "code",
   "execution_count": 216,
   "id": "7a42d085",
   "metadata": {},
   "outputs": [
    {
     "data": {
      "text/html": [
       "<pre class=\"language-APL\">┌─────────┬─────────┬─────────────┐\n",
       "│┌───┬───┐│┌───┬───┐│┌───┬───┬───┐│\n",
       "││0 0│1 0│││0 0│0 1│││0 0│0 1│0 2││\n",
       "│└───┴───┘│└───┴───┘│└───┴───┴───┘│\n",
       "└─────────┴─────────┴─────────────┘\n",
       "</pre>"
      ]
     },
     "execution_count": 216,
     "metadata": {},
     "output_type": "execute_result"
    }
   ],
   "source": [
    "w ← ⊂(0 0)\n",
    "x ← step w\n",
    "\n",
    "⍝ x,(⊂(0 0)(0 1)(0 2))\n",
    "⍝ y ← step¨x\n",
    "⍝ y\n",
    "\n",
    "⍝ z ← {step¨⊃,/⍵}⍣{∨/(epoint∘≡¨⊃,/¯1↑¨⊃,/⍺)} ⊢ y\n",
    "⍝ ≢¨⊃,/z"
   ]
  },
  {
   "cell_type": "code",
   "execution_count": 258,
   "id": "03c5089e",
   "metadata": {},
   "outputs": [
    {
     "data": {
      "text/html": [
       "<span style=\"white-space:pre; font-family: monospace\">┌→────────────────────────────────┐\n",
       "│ ┌→────────────┐ ┌→────────────┐ │\n",
       "│ │ ┌→──┐ ┌→──┐ │ │ ┌→──┐ ┌→──┐ │ │\n",
       "│ │ │0 0│ │1 0│ │ │ │0 0│ │0 1│ │ │\n",
       "│ │ └~──┘ └~──┘ │ │ └~──┘ └~──┘ │ │\n",
       "│ └∊────────────┘ └∊────────────┘ │\n",
       "└∊────────────────────────────────┘\n",
       "</span>"
      ]
     },
     "execution_count": 258,
     "metadata": {},
     "output_type": "execute_result"
    },
    {
     "data": {
      "text/html": [
       "<span style=\"white-space:pre; font-family: monospace\">┌→────────────────────────────────────────────────────────────────────────────────────────────────┐\n",
       "│ ┌→────────────────────────────────────────────┐ ┌→────────────────────────────────────────────┐ │\n",
       "│ │ ┌→──────────────────┐ ┌→──────────────────┐ │ │ ┌→──────────────────┐ ┌→──────────────────┐ │ │\n",
       "│ │ │ ┌→──┐ ┌→──┐ ┌→──┐ │ │ ┌→──┐ ┌→──┐ ┌→──┐ │ │ │ │ ┌→──┐ ┌→──┐ ┌→──┐ │ │ ┌→──┐ ┌→──┐ ┌→──┐ │ │ │\n",
       "│ │ │ │0 0│ │1 0│ │2 0│ │ │ │0 0│ │1 0│ │1 1│ │ │ │ │ │0 0│ │0 1│ │1 1│ │ │ │0 0│ │0 1│ │0 2│ │ │ │\n",
       "│ │ │ └~──┘ └~──┘ └~──┘ │ │ └~──┘ └~──┘ └~──┘ │ │ │ │ └~──┘ └~──┘ └~──┘ │ │ └~──┘ └~──┘ └~──┘ │ │ │\n",
       "│ │ └∊──────────────────┘ └∊──────────────────┘ │ │ └∊──────────────────┘ └∊──────────────────┘ │ │\n",
       "│ └∊────────────────────────────────────────────┘ └∊────────────────────────────────────────────┘ │\n",
       "└∊────────────────────────────────────────────────────────────────────────────────────────────────┘\n",
       "</span>"
      ]
     },
     "execution_count": 258,
     "metadata": {},
     "output_type": "execute_result"
    },
    {
     "data": {
      "text/html": [
       "<span style=\"white-space:pre; font-family: monospace\">  \n",
       "23\n",
       "  \n",
       "</span>"
      ]
     },
     "execution_count": 258,
     "metadata": {},
     "output_type": "execute_result"
    }
   ],
   "source": [
    "x ← step ⊂(0 0)\n",
    "]display x\n",
    "y ← step¨x\n",
    "]display y\n",
    "z ← {step¨⊃,/⍵}⍣{∨/(epoint∘≡¨⊃,/¯1↑¨⊃,/⍺)} ⊢ y\n"
   ]
  }
 ],
 "metadata": {
  "kernelspec": {
   "display_name": "Dyalog APL",
   "language": "apl",
   "name": "dyalog-kernel"
  },
  "language_info": {
   "file_extension": ".apl",
   "mimetype": "text/apl",
   "name": "APL"
  }
 },
 "nbformat": 4,
 "nbformat_minor": 5
}
