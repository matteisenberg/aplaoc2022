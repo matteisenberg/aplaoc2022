{
 "cells": [
  {
   "cell_type": "code",
   "execution_count": 1,
   "id": "99f68610",
   "metadata": {},
   "outputs": [
    {
     "data": {
      "text/html": [
       "<pre class=\"language-APL\">Was ON -style=min\n",
       "</pre>"
      ]
     },
     "execution_count": 1,
     "metadata": {},
     "output_type": "execute_result"
    },
    {
     "data": {
      "text/html": [
       "<pre class=\"language-APL\">Was OFF -style=wrap\n",
       "</pre>"
      ]
     },
     "execution_count": 1,
     "metadata": {},
     "output_type": "execute_result"
    }
   ],
   "source": [
    "ti ← ⊃⎕NGET 'day12ti.txt' 1\n",
    "pi ← ⊃⎕NGET 'day12.txt' 1\n",
    "⎕IO ← 0\n",
    "]box on -style=min\n",
    "]rows on -style=wrap"
   ]
  },
  {
   "cell_type": "code",
   "execution_count": 2,
   "id": "1c237753",
   "metadata": {},
   "outputs": [],
   "source": [
    "cmat ← ↑pi\n",
    "spoint ← ⊃⍸'S'=cmat\n",
    "epoint ← ⊃⍸'E'=cmat\n",
    "getelev ← {⍵='S': 0 ⋄ ⍵='E': 25 ⋄ 'abcdefghijklmnopqrstuvwxyz'⍳⍵}\n",
    "emat ← getelev¨cmat\n",
    "valpos ← ,⍳⍴cmat ⍝ valid coordinates in the matrix"
   ]
  },
  {
   "cell_type": "code",
   "execution_count": 3,
   "id": "b179e4dd",
   "metadata": {},
   "outputs": [],
   "source": [
    "]dinput\n",
    "neighbors ← {\n",
    "    ⍝ given a coordinate point, return possible neighbors\n",
    "    ce ← (⊂⍵)⊃emat      ⍝ current elevation via reach indexing\n",
    "    allns ← ⍵∘+¨(1 0) (0 1) (¯1 0) (0 ¯1)  \n",
    "    ns←allns∩valpos ⍝ return possible NSEW neighbors \n",
    "    es ← {(⊂⍵)⊃emat}¨ns ⍝ get the neighbors' elevations\n",
    "    emask ← {1≥(⍵-ce)}¨es ⍝ target - current elev is no more than 1!!!\n",
    "    emask/ns ⍝ filter for valid elevations\n",
    "}"
   ]
  },
  {
   "cell_type": "code",
   "execution_count": 4,
   "id": "f33428ea",
   "metadata": {},
   "outputs": [],
   "source": [
    "md ← {(|(⊃⍺ - ⊃⍵)) + (|(1⊃⍺ - 1⊃⍵))} ⍝ manhattan distance"
   ]
  },
  {
   "cell_type": "markdown",
   "id": "bc44636d",
   "metadata": {},
   "source": [
    "```\n",
    "frontier = PriorityQueue()\n",
    "frontier.put(start )\n",
    "came_from = dict() # path A->B is stored as came_from[B] == A\n",
    "came_from[start] = None\n",
    "\n",
    "while not frontier.empty():\n",
    "   current = frontier.get()\n",
    "   for next in graph.neighbors(current):\n",
    "      if next not in came_from:\n",
    "         priority = heuristic(goal, next)\n",
    "         frontier.put(next, priority)\n",
    "         came_from[next] = curren\n",
    "```"
   ]
  },
  {
   "cell_type": "code",
   "execution_count": 5,
   "id": "b512ac83",
   "metadata": {},
   "outputs": [],
   "source": [
    "]dinput\n",
    "bfs ← {\n",
    "    frontier ← ⊃⍵\n",
    "    camefrom ← 1⊃⍵\n",
    "    0=≢frontier: 1⊃⍵\n",
    "    \n",
    "    current ← 1↑frontier\n",
    "    ns ← neighbors 2↑⊃↓current\n",
    "    next ← ns ~ ⊃¨camefrom\n",
    "    costs ← {epoint md ⍵}¨next\n",
    "    ncosts ← (↑next), costs\n",
    "    cf ← next,⍤0 1 ⊢ ⊂2↑⊃↓current\n",
    "    newfrontier ← ncosts⍪1↓frontier\n",
    "    sortedfrontier ← (2)(⊢⌷⍨∘⊂∘⍋⌷⍤1)newfrontier\n",
    "    newcamefrom ← camefrom,↓cf\n",
    "    (⊂sortedfrontier), ⊂newcamefrom\n",
    "}"
   ]
  },
  {
   "cell_type": "markdown",
   "id": "cd727be8",
   "metadata": {},
   "source": [
    "```\n",
    "current = goal \n",
    "path = []\n",
    "while current != start: \n",
    "   path.append(current)\n",
    "   current = came_from[current]\n",
    "path.append(start) # optional\n",
    "path.reverse() # optional\n",
    "```"
   ]
  },
  {
   "cell_type": "code",
   "execution_count": 11,
   "id": "b7a5ae93",
   "metadata": {},
   "outputs": [],
   "source": [
    "]dinput\n",
    "findpath ← {\n",
    "    ⍵\n",
    "    current ← ⊃⍵\n",
    "    path ← 1⊃⍵\n",
    "    camefrom ← 2⊃⍵\n",
    "    (current)≡(spoint): 1⊃⍵\n",
    "    \n",
    "    np ← path,⊂current\n",
    "    (⊃((0⌷⍉camefrom))⍳⊂current)\n",
    "    nc ← 1⊃(⊃((0⌷⍉camefrom))⍳⊂current)⌷camefrom\n",
    "    nc np camefrom\n",
    "}"
   ]
  },
  {
   "cell_type": "code",
   "execution_count": 12,
   "id": "ec1a3a82",
   "metadata": {},
   "outputs": [
    {
     "name": "stderr",
     "output_type": "stream",
     "text": [
      "INTERRUPT"
     ]
    }
   ],
   "source": [
    "cost ← spoint md epoint\n",
    "camefrom ← bfs⍣{0=≢⊃⍵} ⊢ (1 3⍴(0 0 cost)) (⊂(0 0) 'None')\n",
    "y ← findpath⍣{(⊃⍵)≡(spoint)} ⊢ (epoint '' (↑(1⊃camefrom)))\n",
    "≢1⊃y"
   ]
  }
 ],
 "metadata": {
  "kernelspec": {
   "display_name": "Dyalog APL",
   "language": "apl",
   "name": "dyalog-kernel"
  },
  "language_info": {
   "file_extension": ".apl",
   "mimetype": "text/apl",
   "name": "APL"
  }
 },
 "nbformat": 4,
 "nbformat_minor": 5
}
