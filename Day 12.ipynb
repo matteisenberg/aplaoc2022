{
 "cells": [
  {
   "cell_type": "code",
   "execution_count": 1,
   "id": "99f68610",
   "metadata": {},
   "outputs": [
    {
     "data": {
      "text/html": [
       "<pre class=\"language-APL\">Was OFF\n",
       "</pre>"
      ]
     },
     "execution_count": 1,
     "metadata": {},
     "output_type": "execute_result"
    }
   ],
   "source": [
    "ti ← ⊃⎕NGET 'day12ti.txt' 1\n",
    "pi ← ⊃⎕NGET 'day12.txt' 1\n",
    "]rows off\n",
    "⎕IO ← 0"
   ]
  },
  {
   "cell_type": "code",
   "execution_count": 2,
   "id": "1c237753",
   "metadata": {},
   "outputs": [],
   "source": [
    "cmat ← ↑ti\n",
    "spoint ← ⊃⍸'S'=cmat\n",
    "epoint ← ⊃⍸'E'=cmat\n",
    "getelev ← {⍵='S': 0 ⋄ ⍵='E': 25 ⋄ 'abcdefghijklmnopqrstuvwxyz'⍳⍵}\n",
    "emat ← getelev¨cmat\n",
    "valpos ← ,⍳⍴cmat ⍝ valid coordinates in the matrix"
   ]
  },
  {
   "cell_type": "code",
   "execution_count": 3,
   "id": "b179e4dd",
   "metadata": {},
   "outputs": [],
   "source": [
    "]dinput\n",
    "neighbors ← {\n",
    "    ⍝ given a coordinate point, return possible neighbors\n",
    "    ce ← (⊂⍵)⊃emat      ⍝ current elevation\n",
    "    allns ← ⍵∘+¨(¯1 0) (0 ¯1) (1 0) (0 1) \n",
    "    ns←allns∩valpos ⍝ return possible NSEW neighbors \n",
    "    es ← {(⊂⍵)⊃emat}¨ns ⍝ get the neighbors' elevations\n",
    "    emask ← {((¯1+ce)≤⍵)∧(⍵≤(1+ce))}¨es ⍝ create elevation mask\n",
    "    emask/ns ⍝ filter for valid elevations\n",
    "}"
   ]
  },
  {
   "cell_type": "markdown",
   "id": "bc44636d",
   "metadata": {},
   "source": [
    "```\n",
    "frontier = Queue()\n",
    "frontier.put(start )\n",
    "came_from = dict() # path A->B is stored as came_from[B] == A\n",
    "came_from[start] = None\n",
    "\n",
    "while not frontier.empty():\n",
    "   current = frontier.get()\n",
    "   for next in graph.neighbors(current):\n",
    "      if next not in came_from:\n",
    "         frontier.put(next)\n",
    "         came_from[next] = curren\n",
    "```"
   ]
  },
  {
   "cell_type": "code",
   "execution_count": 8,
   "id": "a304681c",
   "metadata": {},
   "outputs": [],
   "source": [
    "]dinput\n",
    "bfs ← {\n",
    "    current ← ⊃⍵\n",
    "    ns ← neighbors current\n",
    "    ⎕ ← ⍺\n",
    "    ns\n",
    "}"
   ]
  },
  {
   "cell_type": "code",
   "execution_count": 9,
   "id": "94afa67c",
   "metadata": {},
   "outputs": [
    {
     "data": {
      "text/html": [
       "<pre class=\"language-APL\">┌───┬────┐\n",
       "│0 0│None│\n",
       "└───┴────┘\n",
       "┌───┬───┐\n",
       "│1 0│0 1│\n",
       "└───┴───┘\n",
       "</pre>"
      ]
     },
     "execution_count": 9,
     "metadata": {},
     "output_type": "execute_result"
    }
   ],
   "source": [
    "frontier ← ⊂(0 0) ⍝ queue - remove items from front\n",
    "camefrom ← ↑(⊂(0 0) 'None') ⍝ dict path A->B is stored as B A\n",
    "⍝ ↑(↓camefrom),⊂((0 1) (0 0)) tack something onto camefrom\n",
    "camefrom bfs⍣1 ⊢ frontier ⍝ while frontier isn't empty, {0=≢frontier}"
   ]
  },
  {
   "cell_type": "code",
   "execution_count": 27,
   "id": "1efc01c3",
   "metadata": {},
   "outputs": [
    {
     "data": {
      "text/html": [
       "<pre class=\"language-APL\">┌─────────┬─────────┐\n",
       "│┌───┬───┐│┌───┬───┐│\n",
       "││1 0│0 0│││0 1│0 0││\n",
       "│└───┴───┘│└───┴───┘│\n",
       "└─────────┴─────────┘\n",
       "</pre>"
      ]
     },
     "execution_count": 27,
     "metadata": {},
     "output_type": "execute_result"
    },
    {
     "data": {
      "text/html": [
       "<pre class=\"language-APL\">┌─────────┬─────────┐\n",
       "│┌───┬───┐│┌───┬───┐│\n",
       "││1 0│0 0│││0 1│0 0││\n",
       "│└───┴───┘│└───┴───┘│\n",
       "└─────────┴─────────┘\n",
       "</pre>"
      ]
     },
     "execution_count": 27,
     "metadata": {},
     "output_type": "execute_result"
    }
   ],
   "source": [
    "current ← frontier\n",
    "ns ← neighbors ⊃current\n",
    "newcf ← {(⊂⍵),⊂⊃current}¨ns\n",
    "nf ~∊ camefrom"
   ]
  }
 ],
 "metadata": {
  "kernelspec": {
   "display_name": "Dyalog APL",
   "language": "apl",
   "name": "dyalog-kernel"
  },
  "language_info": {
   "file_extension": ".apl",
   "mimetype": "text/apl",
   "name": "APL"
  }
 },
 "nbformat": 4,
 "nbformat_minor": 5
}
