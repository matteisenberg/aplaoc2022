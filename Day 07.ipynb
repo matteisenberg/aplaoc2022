{
 "cells": [
  {
   "cell_type": "code",
   "execution_count": 3,
   "id": "ec7adf78",
   "metadata": {},
   "outputs": [],
   "source": [
    "ti ← ⊃⎕NGET 'day07ti.txt' 1\n",
    "pi ← ⊃⎕NGET 'day07.txt' 1"
   ]
  },
  {
   "cell_type": "code",
   "execution_count": 24,
   "id": "96755d55",
   "metadata": {},
   "outputs": [],
   "source": [
    "]dinput\n",
    "makePaths ← {\n",
    "    ⍺ ← '' '' ''          ⍝ Left arg defaults\n",
    "    0=≢⍵: ⍺               ⍝ If right arg is empty, return left arg\n",
    "    curpath ← 1⊃⍺\n",
    "    paths ← 2⊃⍺\n",
    "    files ← 3⊃⍺\n",
    "    \n",
    "    '$ ls'≡4↑⊃⍵: (⍺)∇1↓⍵                ⍝ skip the ls statements \n",
    "    'dir '≡4↑⊃⍵: (⍺)∇1↓⍵                ⍝ skip the dirs they are 0\n",
    "    '$ cd ..'≡7↑⊃⍵: (¯1↓curpath) paths files∇1↓⍵ ⍝ pop one off the end of path \n",
    "    '$ cd'≡4↑⊃⍵: (curpath,⊂(5↓⊃⍵),'/') paths files∇1↓⍵ ⍝ add dir to the path\n",
    "\n",
    "    file ← ⍎((⊃⍵)⍳' ')↑⊃⍵ ⍝ take everything left of the space, convert to int\n",
    "    curpath (paths,⊂∊curpath) (files,⊂file)∇1↓⍵          ⍝ else, Add head to acc, \n",
    "}"
   ]
  },
  {
   "cell_type": "code",
   "execution_count": 40,
   "id": "83b64a47",
   "metadata": {},
   "outputs": [
    {
     "data": {
      "text/html": [
       "<span style=\"white-space:pre; font-family: monospace\">1\n",
       "</span>"
      ]
     },
     "execution_count": 40,
     "metadata": {},
     "output_type": "execute_result"
    },
    {
     "data": {
      "text/html": [
       "<span style=\"white-space:pre; font-family: monospace\">95437\n",
       "</span>"
      ]
     },
     "execution_count": 40,
     "metadata": {},
     "output_type": "execute_result"
    }
   ],
   "source": [
    "fs ← makePaths ti\n",
    "paths ← 2⊃fs\n",
    "files ← 3⊃fs\n",
    "(≢paths)=(≢files)\n",
    "totals ← {+/(⍵∘≡¨(≢⍵)↑¨paths)/files}¨∪paths\n",
    "part1 ← +/(100000≥totals)/totals\n",
    "part1"
   ]
  },
  {
   "cell_type": "code",
   "execution_count": null,
   "id": "e8011314",
   "metadata": {},
   "outputs": [],
   "source": []
  },
  {
   "cell_type": "code",
   "execution_count": 35,
   "id": "8c4e945f",
   "metadata": {},
   "outputs": [
    {
     "data": {
      "text/html": [
       "<span style=\"white-space:pre; font-family: monospace\">10\n",
       "</span>"
      ]
     },
     "execution_count": 35,
     "metadata": {},
     "output_type": "execute_result"
    }
   ],
   "source": [
    "≢paths"
   ]
  },
  {
   "cell_type": "code",
   "execution_count": 29,
   "id": "59a64a71",
   "metadata": {},
   "outputs": [
    {
     "data": {
      "text/html": [
       "<span style=\"white-space:pre; font-family: monospace\">//                                                   \n",
       "//bgmjrlz/dhqzgdl/jjshzrhd/jjshzrhd/                 \n",
       "//bgmjrlz/dhqzgdl/jlfz/                              \n",
       "//bgmjrlz/dhqzgdl/jlfz/hgzg/                         \n",
       "//bgmjrlz/dhqzgdl/vqvvwgt/                           \n",
       "//bgmjrlz/dhqzgdl/zcqbt/                             \n",
       "//bgmjrlz/djtchhmw/                                  \n",
       "//bgmjrlz/tvq/                                       \n",
       "//bhp/                                               \n",
       "//bhp/mps/                                           \n",
       "//bhp/mps/djtchhmw/                                  \n",
       "//bhp/sjt/                                           \n",
       "//bhp/sjt/btgrv/rnhq/                                \n",
       "//bhp/sjt/csn/                                       \n",
       "//bhp/sjt/ddhfvv/                                    \n",
       "//bhp/sjt/ddhfvv/glbf/                               \n",
       "//bhp/sjt/ddhfvv/qtc/                                \n",
       "//bhp/sjt/ddhfvv/vlrs/btgrv/                         \n",
       "//bhp/sjt/ddhfvv/vlrs/jlbjlzzs/                      \n",
       "//bhp/sjt/ddhfvv/vlrs/lnqcr/                         \n",
       "//bhp/sjt/ddhfvv/vzhm/                               \n",
       "//bhp/sjt/ddhfvv/wwghpsds/                           \n",
       "//bhp/sjt/dfbjz/                                     \n",
       "//bhp/sjt/djtchhmw/                                  \n",
       "//bhp/sjt/qdms/                                      \n",
       "//bhp/sjt/qdms/djtchhmw/                             \n",
       "//bhp/sjt/qdms/sgh/                                  \n",
       "//bhp/sjt/rdqbdtdh/                                  \n",
       "//bhp/sjt/rdqbdtdh/btgrv/                            \n",
       "//bhp/sjt/rdqbdtdh/btgrv/btgrv/                      \n",
       "//bhp/sjt/rdqbdtdh/btgrv/btgrv/czgrcv/               \n",
       "//bhp/sjt/rdqbdtdh/btgrv/btgrv/mfhbd/                \n",
       "//bhp/sjt/rdqbdtdh/djtchhmw/                         \n",
       "//bhp/sjt/rdqbdtdh/djtchhmw/fvhmzqc/                 \n",
       "//bhp/sjt/rdqbdtdh/djtchhmw/fvhmzqc/bjpvn/           \n",
       "//bhp/sjt/rdqbdtdh/djtchhmw/jmqwll/                  \n",
       "//bhp/sjt/rdqbdtdh/jmc/                              \n",
       "//bhp/zvbwsw/fvhmzqc/                                \n",
       "//cbcwz/                                             \n",
       "//fvhmzqc/                                           \n",
       "//fvhmzqc/hvnt/                                      \n",
       "//fvhmzqc/hvnt/rmrc/                                 \n",
       "//fvhmzqc/hvnt/rmrc/btgrv/                           \n",
       "//fvhmzqc/jbc/                                       \n",
       "//fvhmzqc/mzzfssn/                                   \n",
       "//fvhmzqc/npdccs/                                    \n",
       "//fvhmzqc/wrzzq/                                     \n",
       "//fvhmzqc/wrzzq/btgrv/dppvz/                         \n",
       "//fvhmzqc/wrzzq/btgrv/glmtpswv/                      \n",
       "//fvhmzqc/wrzzq/btgrv/glmtpswv/jjshzrhd/             \n",
       "//fvhmzqc/wrzzq/btgrv/glmtpswv/jjshzrhd/cwdwh/       \n",
       "//fvhmzqc/wrzzq/btgrv/glmtpswv/jjshzrhd/cwdwh/btgrv/ \n",
       "//fvhmzqc/wrzzq/btgrv/glmtpswv/jjshzrhd/cwdwh/hnp/   \n",
       "//fvhmzqc/wrzzq/btgrv/glmtpswv/jjshzrhd/tfzp/        \n",
       "//fvhmzqc/wrzzq/btgrv/glmtpswv/lqnb/                 \n",
       "//fvhmzqc/wrzzq/btgrv/qfgqfzm/                       \n",
       "//fvhmzqc/wrzzq/btgrv/qhb/                           \n",
       "//fvhmzqc/wrzzq/dzzv/                                \n",
       "//fvhmzqc/wrzzq/lpz/                                 \n",
       "//fvhmzqc/wrzzq/lpz/djtchhmw/                        \n",
       "//fvhmzqc/wrzzq/lpz/djtchhmw/fvhmzqc/                \n",
       "//fvhmzqc/wrzzq/lpz/djtchhmw/jjshzrhd/               \n",
       "//fvhmzqc/wrzzq/lpz/djtchhmw/qpc/                    \n",
       "//fvhmzqc/wrzzq/lpz/djtchhmw/svmmjlr/                \n",
       "//fvhmzqc/wrzzq/lpz/djtchhmw/tddmdzd/                \n",
       "//fvhmzqc/wrzzq/lpz/djtchhmw/tddmdzd/cjfjmjnh/gcs/   \n",
       "//fvhmzqc/wrzzq/lpz/djtchhmw/tddmdzd/fjwwn/          \n",
       "//fvhmzqc/wrzzq/lpz/pbcrz/                           \n",
       "//fvhmzqc/wrzzq/mqqlhnvh/                            \n",
       "//fvhmzqc/wrzzq/mqqlhnvh/bmcqbq/bwjhtvcm/            \n",
       "//fvhmzqc/wrzzq/mqqlhnvh/bmcqbq/wzmg/ddhfvv/jjshzrhd/\n",
       "//fvhmzqc/wrzzq/mqqlhnvh/bmcqbq/wzmg/tlhc/lbpmtft/   \n",
       "//fvhmzqc/wrzzq/mqqlhnvh/cqh/                        \n",
       "//fvhmzqc/wrzzq/mqqlhnvh/cqh/btgrv/hrbjmbf/          \n",
       "//fvhmzqc/wrzzq/mqqlhnvh/cqh/btgrv/npffrswd/jjshzrhd/\n",
       "//fvhmzqc/wrzzq/mqqlhnvh/cqh/vwdqmtwf/               \n",
       "//fvhmzqc/wrzzq/mqqlhnvh/jjshzrhd/                   \n",
       "//fvhmzqc/wrzzq/mqqlhnvh/lbvrm/                      \n",
       "//fvhmzqc/wrzzq/mqqlhnvh/lbvrm/btgrv/qjbhvdm/        \n",
       "//fvhmzqc/wrzzq/mqqlhnvh/lbvrm/pvnbdwjj/             \n",
       "//fvhmzqc/wrzzq/mqqlhnvh/lbvrm/pvnbdwjj/jjshzrhd/    \n",
       "//fvhmzqc/wrzzq/mqqlhnvh/lbvrm/znz/                  \n",
       "//fvhmzqc/wrzzq/mqqlhnvh/lbvrm/znz/ddhfvv/           \n",
       "//fvhmzqc/wrzzq/mqqlhnvh/lbvrm/znz/pwtbr/            \n",
       "//fvhmzqc/wrzzq/mqqlhnvh/lwmbvsjj/                   \n",
       "//fvhmzqc/wrzzq/mqqlhnvh/lwmbvsjj/ddhfvv/            \n",
       "//fvhmzqc/wrzzq/mqqlhnvh/lwmbvsjj/vrqmtl/            \n",
       "//fvhmzqc/wrzzq/mqqlhnvh/rrcnhbn/jjshzrhd/           \n",
       "//hqmlnpn/                                           \n",
       "//hqmlnpn/djtchhmw/                                  \n",
       "//hqmlnpn/dlqjbqbr/fvhmzqc/                          \n",
       "//hqmlnpn/dlqjbqbr/fvhmzqc/brfl/                     \n",
       "//hqmlnpn/dlqjbqbr/fvhmzqc/ccnlzrb/rzmdmq/           \n",
       "//hqmlnpn/dlqjbqbr/fvhmzqc/cjtl/                     \n",
       "//hqmlnpn/dlqjbqbr/fvhmzqc/dfvt/                     \n",
       "//hqmlnpn/dlqjbqbr/fvhmzqc/ppshjv/                   \n",
       "//hqmlnpn/dlqjbqbr/fvhmzqc/smprwhmg/                 \n",
       "//hqmlnpn/dlqjbqbr/jjshzrhd/                         \n",
       "//hqmlnpn/dlqjbqbr/jjshzrhd/lqgsw/                   \n",
       "//hqmlnpn/dlqjbqbr/jjshzrhd/lsmccpj/                 \n",
       "//hqmlnpn/dlqjbqbr/jjshzrhd/lsmccpj/gclrgz/          \n",
       "//hqmlnpn/dlqjbqbr/jjshzrhd/lsmccpj/gnrztgj/         \n",
       "//hqmlnpn/dlqjbqbr/ncwldt/                           \n",
       "//hqmlnpn/dlqjbqbr/wfw/                              \n",
       "//hqmlnpn/fvhmzqc/                                   \n",
       "//hqmlnpn/fvhmzqc/fvhmzqc/                           \n",
       "//hqmlnpn/fvhmzqc/jsfbvwb/                           \n",
       "//hqmlnpn/nppp/                                      \n",
       "//hqmlnpn/rscgvrdt/                                  \n",
       "//hqmlnpn/sdcbr/                                     \n",
       "//hqmlnpn/sdcbr/frcj/                                \n",
       "//hqmlnpn/sdcbr/tcwpvrr/                             \n",
       "//hqmlnpn/sdcbr/tcwpvrr/ltwvvrv/                     \n",
       "//rbztmqjn/                                          \n",
       "//vfrtt/                                             \n",
       "//vfrtt/ddhfvv/                                      \n",
       "//vfrtt/ddhfvv/lwblgr/                               \n",
       "//vfrtt/ddhfvv/qmc/                                  \n",
       "//vfrtt/ddhfvv/thwccb/ddhfvv/                        \n",
       "//vfrtt/ddhfvv/tmlwvtmc/                             \n",
       "//vfrtt/ddhfvv/tmlwvtmc/djtchhmw/                    \n",
       "//vfrtt/ddhfvv/tmlwvtmc/djtchhmw/tzbd/               \n",
       "//vfrtt/ftrqt/                                       \n",
       "//vfrtt/fvhmzqc/                                     \n",
       "//vfrtt/jjshzrhd/                                    \n",
       "//vfrtt/jjshzrhd/wltvrv/                             \n",
       "//vfrtt/mzfq/                                        \n",
       "//vfrtt/nhzz/                                        \n",
       "//vfrtt/zblsznh/                                     \n",
       "//vfrtt/zblsznh/fvhmzqc/djtchhmw/sdrjlqqm/           \n",
       "//vfrtt/zblsznh/fvhmzqc/fsqdcwr/ddhfvv/              \n",
       "//vfrtt/zblsznh/fvhmzqc/fsqdcwr/nhmhgzt/             \n",
       "//vfrtt/zblsznh/fvhmzqc/fsqdcwr/pdhbd/               \n",
       "//vfrtt/zblsznh/fvhmzqc/jjshzrhd/                    \n",
       "//vfrtt/zblsznh/fvhmzqc/zljhz/dmqmc/djtchhmw/        \n",
       "//vfrtt/zblsznh/fvhmzqc/zljhz/jnlgsgn/               \n",
       "//vfrtt/zblsznh/fvhmzqc/zljhz/mhtmt/                 \n",
       "//vfrtt/zblsznh/fvhmzqc/zljhz/mqtmpht/               \n",
       "//vfrtt/zblsznh/fvhmzqc/zljhz/mqtmpht/czqj/          \n",
       "//vfrtt/zblsznh/fvhmzqc/zljhz/mqtmpht/gdc/           \n",
       "//vfrtt/zblsznh/tdpv/                                \n",
       "//vfrtt/zblsznh/tdpv/frgfgd/                         \n",
       "//vfrtt/zblsznh/tdpv/sggm/                           \n",
       "</span>"
      ]
     },
     "execution_count": 29,
     "metadata": {},
     "output_type": "execute_result"
    }
   ],
   "source": [
    "∪↑paths[⍋paths]"
   ]
  }
 ],
 "metadata": {
  "kernelspec": {
   "display_name": "Dyalog APL",
   "language": "apl",
   "name": "dyalog-kernel"
  },
  "language_info": {
   "file_extension": ".apl",
   "mimetype": "text/apl",
   "name": "APL"
  }
 },
 "nbformat": 4,
 "nbformat_minor": 5
}
