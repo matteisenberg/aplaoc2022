{
 "cells": [
  {
   "cell_type": "code",
   "execution_count": 1,
   "id": "2110bc6c",
   "metadata": {},
   "outputs": [
    {
     "data": {
      "text/html": [
       "<pre class=\"language-APL\">┌→────────────────┐\n",
       "│Was ON -style=max│\n",
       "└─────────────────┘\n",
       "</pre>"
      ]
     },
     "execution_count": 1,
     "metadata": {},
     "output_type": "execute_result"
    },
    {
     "data": {
      "text/html": [
       "<pre class=\"language-APL\">┌→──────────────┐\n",
       "│Was -style=wrap│\n",
       "└───────────────┘\n",
       "</pre>"
      ]
     },
     "execution_count": 1,
     "metadata": {},
     "output_type": "execute_result"
    }
   ],
   "source": [
    "]box on -style=max\n",
    "]rows -style=wrap"
   ]
  },
  {
   "cell_type": "code",
   "execution_count": 1,
   "id": "ec7adf78",
   "metadata": {},
   "outputs": [],
   "source": [
    "ti ← ⊃⎕NGET 'day07ti.txt' 1\n",
    "pi ← ⊃⎕NGET 'day07.txt' 1"
   ]
  },
  {
   "cell_type": "code",
   "execution_count": 32,
   "id": "c7c90b6b",
   "metadata": {},
   "outputs": [],
   "source": [
    "inp ← pi\n",
    "rm1 ← ('$ cd ..'∘≢¨inp) / inp ⍝ remove 'cd ..'s\n",
    "rm2 ← ('$ ls'∘≢¨rm1) / rm1 ⍝ remove ls's\n",
    "files_mask ← (('$ cd'∘≢)∧('dir '∘≢))¨4↑¨rm2 ⍝ first four characters !eq cd or dir\n",
    "files_idxs ← ⍸1=files_mask ⍝ get the indicies from the mask\n",
    "ints ← {{⍎(⍵⍳' ')↑⍵}¨⍵}@files_idxs⊢rm2  ⍝ for each item, take everything left of the space,\n",
    "                                        ⍝ convert to int\n",
    "fs ← ('$ cd'∘≡¨4↑¨ints)⊂ints ⍝ enclose directories\n",
    "dirs ← 5↓¨⊃¨fs ⍝ get a listing of directory names from the first cells in the filesystem"
   ]
  },
  {
   "cell_type": "code",
   "execution_count": 15,
   "id": "ffdcb4e3",
   "metadata": {},
   "outputs": [
    {
     "data": {
      "text/html": [
       "<pre class=\"language-APL\">1\n",
       "</pre>"
      ]
     },
     "execution_count": 15,
     "metadata": {},
     "output_type": "execute_result"
    }
   ],
   "source": [
    "getidx ← { ⍬≡⍴⍵: ⍸∊⍵=dirs ⋄ ⍸∊⍵∘≡¨dirs }\n",
    "getidx '/'"
   ]
  },
  {
   "cell_type": "code",
   "execution_count": 16,
   "id": "8b844135",
   "metadata": {},
   "outputs": [],
   "source": [
    "]dinput\n",
    "getsize ← {\n",
    "    idx ← getidx ⍵ ⍝ get the index of dirs and file system for this dir\n",
    "    dir ← 1↓idx⊃fs\n",
    "    files ← ({⍬≡⍴⍵}¨dir)/dir\n",
    "    moredirs ← ∊4↓¨({⍬≢⍴⍵}¨dir)/dir\n",
    "    ⍬≡moredirs: +/files\n",
    "        +/files,∊getsize¨moredirs\n",
    "}"
   ]
  },
  {
   "cell_type": "code",
   "execution_count": 35,
   "id": "966ac5bd",
   "metadata": {},
   "outputs": [
    {
     "data": {
      "text/html": [
       "<pre class=\"language-APL\">/       \n",
       "bgmjrlz \n",
       "dhqzgdl \n",
       "jjshzrhd\n",
       "jjshzrhd\n",
       "jlfz    \n",
       "hgzg    \n",
       "vqvvwgt \n",
       "zcqbt   \n",
       "djtchhmw\n",
       "tvq     \n",
       "bhp     \n",
       "mps     \n",
       "djtchhmw\n",
       "sjt     \n",
       "btgrv   \n",
       "rnhq    \n",
       "csn     \n",
       "ddhfvv  \n",
       "glbf    \n",
       "qtc     \n",
       "vlrs    \n",
       "btgrv   \n",
       "jlbjlzzs\n",
       "lnqcr   \n",
       "vzhm    \n",
       "wwghpsds\n",
       "dfbjz   \n",
       "djtchhmw\n",
       "qdms    \n",
       "djtchhmw\n",
       "sgh     \n",
       "rdqbdtdh\n",
       "btgrv   \n",
       "btgrv   \n",
       "czgrcv  \n",
       "mfhbd   \n",
       "djtchhmw\n",
       "fvhmzqc \n",
       "bjpvn   \n",
       "jmqwll  \n",
       "jmc     \n",
       "zvbwsw  \n",
       "fvhmzqc \n",
       "cbcwz   \n",
       "fvhmzqc \n",
       "hvnt    \n",
       "rmrc    \n",
       "btgrv   \n",
       "jbc     \n",
       "mzzfssn \n",
       "npdccs  \n",
       "wrzzq   \n",
       "btgrv   \n",
       "dppvz   \n",
       "glmtpswv\n",
       "jjshzrhd\n",
       "cwdwh   \n",
       "btgrv   \n",
       "hnp     \n",
       "tfzp    \n",
       "lqnb    \n",
       "qfgqfzm \n",
       "qhb     \n",
       "dzzv    \n",
       "lpz     \n",
       "djtchhmw\n",
       "fvhmzqc \n",
       "jjshzrhd\n",
       "qpc     \n",
       "svmmjlr \n",
       "tddmdzd \n",
       "cjfjmjnh\n",
       "gcs     \n",
       "fjwwn   \n",
       "pbcrz   \n",
       "mqqlhnvh\n",
       "bmcqbq  \n",
       "bwjhtvcm\n",
       "wzmg    \n",
       "ddhfvv  \n",
       "jjshzrhd\n",
       "tlhc    \n",
       "lbpmtft \n",
       "cqh     \n",
       "btgrv   \n",
       "hrbjmbf \n",
       "npffrswd\n",
       "jjshzrhd\n",
       "vwdqmtwf\n",
       "jjshzrhd\n",
       "lbvrm   \n",
       "btgrv   \n",
       "qjbhvdm \n",
       "pvnbdwjj\n",
       "jjshzrhd\n",
       "znz     \n",
       "ddhfvv  \n",
       "pwtbr   \n",
       "lwmbvsjj\n",
       "ddhfvv  \n",
       "vrqmtl  \n",
       "rrcnhbn \n",
       "jjshzrhd\n",
       "hqmlnpn \n",
       "djtchhmw\n",
       "dlqjbqbr\n",
       "fvhmzqc \n",
       "brfl    \n",
       "ccnlzrb \n",
       "rzmdmq  \n",
       "cjtl    \n",
       "dfvt    \n",
       "ppshjv  \n",
       "smprwhmg\n",
       "jjshzrhd\n",
       "lqgsw   \n",
       "lsmccpj \n",
       "gclrgz  \n",
       "gnrztgj \n",
       "ncwldt  \n",
       "wfw     \n",
       "fvhmzqc \n",
       "fvhmzqc \n",
       "jsfbvwb \n",
       "nppp    \n",
       "rscgvrdt\n",
       "sdcbr   \n",
       "frcj    \n",
       "tcwpvrr \n",
       "ltwvvrv \n",
       "rbztmqjn\n",
       "vfrtt   \n",
       "ddhfvv  \n",
       "lwblgr  \n",
       "qmc     \n",
       "thwccb  \n",
       "ddhfvv  \n",
       "tmlwvtmc\n",
       "djtchhmw\n",
       "tzbd    \n",
       "ftrqt   \n",
       "fvhmzqc \n",
       "jjshzrhd\n",
       "wltvrv  \n",
       "mzfq    \n",
       "nhzz    \n",
       "zblsznh \n",
       "fvhmzqc \n",
       "djtchhmw\n",
       "sdrjlqqm\n",
       "fsqdcwr \n",
       "ddhfvv  \n",
       "nhmhgzt \n",
       "pdhbd   \n",
       "jjshzrhd\n",
       "zljhz   \n",
       "dmqmc   \n",
       "djtchhmw\n",
       "jnlgsgn \n",
       "mhtmt   \n",
       "mqtmpht \n",
       "czqj    \n",
       "gdc     \n",
       "tdpv    \n",
       "frgfgd  \n",
       "sggm    \n",
       "</pre>"
      ]
     },
     "execution_count": 35,
     "metadata": {},
     "output_type": "execute_result"
    }
   ],
   "source": [
    "↑dirs"
   ]
  },
  {
   "cell_type": "code",
   "execution_count": 17,
   "id": "d0c1026d",
   "metadata": {},
   "outputs": [
    {
     "name": "stderr",
     "output_type": "stream",
     "text": [
      "INDEX ERROR\n",
      "getsize[2] dir←1↓idx⊃fs\n",
      "                    ∧\n"
     ]
    },
    {
     "data": {
      "text/html": [
       "<pre class=\"language-APL\">95437\n",
       "</pre>"
      ]
     },
     "execution_count": 17,
     "metadata": {},
     "output_type": "execute_result"
    }
   ],
   "source": [
    "alldirs ← getsize¨dirs\n",
    "part1 ← +/(100000≥alldirs)/alldirs\n",
    "part1"
   ]
  }
 ],
 "metadata": {
  "kernelspec": {
   "display_name": "Dyalog APL",
   "language": "apl",
   "name": "dyalog-kernel"
  },
  "language_info": {
   "file_extension": ".apl",
   "mimetype": "text/apl",
   "name": "APL"
  }
 },
 "nbformat": 4,
 "nbformat_minor": 5
}
