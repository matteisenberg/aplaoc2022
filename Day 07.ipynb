{
 "cells": [
  {
   "cell_type": "code",
   "execution_count": 1,
   "id": "2110bc6c",
   "metadata": {},
   "outputs": [
    {
     "data": {
      "text/html": [
       "<pre class=\"language-APL\">┌→────────────────┐\n",
       "│Was ON -style=max│\n",
       "└─────────────────┘\n",
       "</pre>"
      ]
     },
     "execution_count": 1,
     "metadata": {},
     "output_type": "execute_result"
    },
    {
     "data": {
      "text/html": [
       "<pre class=\"language-APL\">┌→──────────────┐\n",
       "│Was -style=wrap│\n",
       "└───────────────┘\n",
       "</pre>"
      ]
     },
     "execution_count": 1,
     "metadata": {},
     "output_type": "execute_result"
    }
   ],
   "source": [
    "]box on -style=max\n",
    "]rows -style=wrap"
   ]
  },
  {
   "cell_type": "code",
   "execution_count": 2,
   "id": "ec7adf78",
   "metadata": {},
   "outputs": [],
   "source": [
    "ti ← ⊃⎕NGET 'day07ti.txt' 1\n",
    "pi ← ⊃⎕NGET 'day07.txt' 1"
   ]
  },
  {
   "cell_type": "code",
   "execution_count": 3,
   "id": "c7c90b6b",
   "metadata": {},
   "outputs": [],
   "source": [
    "inp ← ti\n",
    "rm1 ← ('$ cd ..'∘≢¨inp) / inp ⍝ remove 'cd ..'s\n",
    "rm2 ← ('$ ls'∘≢¨rm1) / rm1 ⍝ remove ls's\n",
    "files_mask ← (('$ cd'∘≢)∧('dir '∘≢))¨4↑¨rm2 ⍝ first four characters !eq cd or dir\n",
    "files_idxs ← ⍸1=files_mask ⍝ get the indicies from the mask\n",
    "ints ← {{⍎(⍵⍳' ')↑⍵}¨⍵}@files_idxs⊢rm2  ⍝ for each item, take everything left of the space,\n",
    "                                        ⍝ convert to int\n",
    "fs ← ('$ cd'∘≡¨4↑¨ints)⊂ints ⍝ enclose directories\n",
    "dirs ← ⊃¨fs ⍝ get a listing of directory names from the first cells in the filesystem"
   ]
  },
  {
   "cell_type": "code",
   "execution_count": null,
   "id": "8b844135",
   "metadata": {},
   "outputs": [
    {
     "name": "stderr",
     "output_type": "stream",
     "text": [
      "JUPYTER NOTEBOOK: Input through ⍞ is not supported"
     ]
    }
   ],
   "source": [
    "]dinput \n",
    "getsize ← {\n",
    "    fsidx ← ⍸⍵∘≡¨dirs ⍝ get the index of dirs and file system for this dir\n",
    "    xfiles ← ({⍬≡⍴⍵}¨fsidx⊃fs)/fsidx⊃fs\n",
    "    moredirs ← ({⍬≢⍴⍵}¨2⊃fs)/2⊃fs\n",
    "    moredirs\n",
    "}\n"
   ]
  },
  {
   "cell_type": "code",
   "execution_count": null,
   "id": "d0c1026d",
   "metadata": {},
   "outputs": [],
   "source": []
  }
 ],
 "metadata": {
  "kernelspec": {
   "display_name": "Dyalog APL",
   "language": "apl",
   "name": "dyalog-kernel"
  },
  "language_info": {
   "file_extension": ".apl",
   "mimetype": "text/apl",
   "name": "APL"
  }
 },
 "nbformat": 4,
 "nbformat_minor": 5
}
