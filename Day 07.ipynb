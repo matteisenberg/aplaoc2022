{
 "cells": [
  {
   "cell_type": "code",
   "execution_count": 5,
   "id": "ec7adf78",
   "metadata": {},
   "outputs": [
    {
     "data": {
      "text/html": [
       "<span style=\"white-space:pre; font-family: monospace\">Was OFF\n",
       "</span>"
      ]
     },
     "execution_count": 5,
     "metadata": {},
     "output_type": "execute_result"
    }
   ],
   "source": [
    "ti ← ⊃⎕NGET 'day07ti.txt' 1\n",
    "pi ← ⊃⎕NGET 'day07.txt' 1\n",
    "]rows on"
   ]
  },
  {
   "cell_type": "code",
   "execution_count": 47,
   "id": "96755d55",
   "metadata": {},
   "outputs": [],
   "source": [
    "]dinput\n",
    "makePaths ← {\n",
    "    ⍺ ← '' ''         ⍝ Left arg defaults\n",
    "    0=≢⍵: ⍺               ⍝ If right arg is empty, return left arg\n",
    "    curpath ← 1⊃⍺\n",
    "    files ← 2⊃⍺\n",
    "    \n",
    "    '$ ls'≡4↑⊃⍵: (⍺)∇1↓⍵                ⍝ skip the ls statements \n",
    "    ⍝'dir '≡4↑⊃⍵: (⍺)∇1↓⍵                ⍝ skip the dirs they are 0\n",
    "    '$ cd ..'≡7↑⊃⍵: (¯1↓curpath) files∇1↓⍵ ⍝ pop one off the end of path \n",
    "    '$ cd'≡4↑⊃⍵: (curpath,⊂(5↓⊃⍵),'/') files∇1↓⍵ ⍝ add dir to the path\n",
    "    'dir '≡4↑⊃⍵: curpath (files, (⊂(∊curpath) 0))∇1↓⍵\n",
    "    \n",
    "    file ← ⍎((⊃⍵)⍳' ')↑⊃⍵ ⍝ take everything left of the space, convert to int\n",
    "    curpath (files, (⊂(∊curpath) file))∇1↓⍵          ⍝ else, Add head to acc, \n",
    "}"
   ]
  },
  {
   "cell_type": "code",
   "execution_count": 64,
   "id": "83b64a47",
   "metadata": {},
   "outputs": [
    {
     "data": {
      "text/html": [
       "<span style=\"white-space:pre; font-family: monospace\">95437\n",
       "</span>"
      ]
     },
     "execution_count": 64,
     "metadata": {},
     "output_type": "execute_result"
    }
   ],
   "source": [
    "fs ← makePaths ti\n",
    "files ← 2⊃fs\n",
    "paths ← 1⌷⍉↑files\n",
    "files ← 2⌷⍉↑files\n",
    "totals ← {+/(⍵∘≡¨(≢⍵)↑¨paths)/files}¨∪paths\n",
    "+/(100000≥totals)/totals"
   ]
  },
  {
   "cell_type": "code",
   "execution_count": 69,
   "id": "838af052",
   "metadata": {},
   "outputs": [
    {
     "data": {
      "text/html": [
       "<span style=\"white-space:pre; font-family: monospace\">48381165 94853 584 24933642\n",
       "</span>"
      ]
     },
     "execution_count": 69,
     "metadata": {},
     "output_type": "execute_result"
    }
   ],
   "source": [
    "totals"
   ]
  }
 ],
 "metadata": {
  "kernelspec": {
   "display_name": "Dyalog APL",
   "language": "apl",
   "name": "dyalog-kernel"
  },
  "language_info": {
   "file_extension": ".apl",
   "mimetype": "text/apl",
   "name": "APL"
  }
 },
 "nbformat": 4,
 "nbformat_minor": 5
}
