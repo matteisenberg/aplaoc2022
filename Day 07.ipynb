{
 "cells": [
  {
   "cell_type": "code",
   "execution_count": 5,
   "id": "2110bc6c",
   "metadata": {},
   "outputs": [
    {
     "data": {
      "text/html": [
       "<pre class=\"language-APL\">Was ON -style=min\n",
       "</pre>"
      ]
     },
     "execution_count": 5,
     "metadata": {},
     "output_type": "execute_result"
    },
    {
     "data": {
      "text/html": [
       "<pre class=\"language-APL\">Was -style=wrap\n",
       "</pre>"
      ]
     },
     "execution_count": 5,
     "metadata": {},
     "output_type": "execute_result"
    }
   ],
   "source": [
    "]box on -style=min\n",
    "]rows -style=wrap"
   ]
  },
  {
   "cell_type": "code",
   "execution_count": 157,
   "id": "ec7adf78",
   "metadata": {},
   "outputs": [],
   "source": [
    "ti ← ⊃⎕NGET 'day07ti.txt' 1\n",
    "pi ← ⊃⎕NGET 'day07.txt' 1"
   ]
  },
  {
   "cell_type": "code",
   "execution_count": 158,
   "id": "96755d55",
   "metadata": {},
   "outputs": [],
   "source": [
    "]dinput\n",
    "makePaths ← {\n",
    "    ⍺ ← '' '' ''          ⍝ Left arg defaults\n",
    "    0=≢⍵: ⍺               ⍝ If right arg is empty, return left arg\n",
    "    curpath ← 1⊃⍺\n",
    "    paths ← 2⊃⍺\n",
    "    files ← 3⊃⍺\n",
    "    \n",
    "    '$ ls'≡4↑⊃⍵: (⍺)∇1↓⍵                ⍝ skip the ls statements \n",
    "    'dir '≡4↑⊃⍵: (⍺)∇1↓⍵                ⍝ skip the dirs they are 0\n",
    "    '$ cd ..'≡7↑⊃⍵: (¯1↓curpath) paths files∇1↓⍵ ⍝ pop one off the end of path \n",
    "    '$ cd'≡4↑⊃⍵: (curpath,⊂(5↓⊃⍵),'/') paths files∇1↓⍵ ⍝ add dir to the path\n",
    "\n",
    "    file ← ⍎((⊃⍵)⍳' ')↑⊃⍵ ⍝ take everything left of the space, convert to int\n",
    "    curpath (paths,⊂∊curpath) (files,⊂file)∇1↓⍵          ⍝ else, Add head to acc, \n",
    "}"
   ]
  },
  {
   "cell_type": "code",
   "execution_count": 160,
   "id": "83b64a47",
   "metadata": {},
   "outputs": [
    {
     "data": {
      "text/html": [
       "<pre class=\"language-APL\">95437\n",
       "</pre>"
      ]
     },
     "execution_count": 160,
     "metadata": {},
     "output_type": "execute_result"
    }
   ],
   "source": [
    "fs ← makePaths ti\n",
    "paths ← 2⊃fs\n",
    "files ← 3⊃fs\n",
    "totals ← {+/(⍵∘≡¨(≢⍵)↑¨paths)/files}¨∪paths\n",
    "part1 ← +/(100000≥totals)/totals\n",
    "part1"
   ]
  },
  {
   "cell_type": "code",
   "execution_count": null,
   "id": "59a64a71",
   "metadata": {},
   "outputs": [],
   "source": []
  }
 ],
 "metadata": {
  "kernelspec": {
   "display_name": "Dyalog APL",
   "language": "apl",
   "name": "dyalog-kernel"
  },
  "language_info": {
   "file_extension": ".apl",
   "mimetype": "text/apl",
   "name": "APL"
  }
 },
 "nbformat": 4,
 "nbformat_minor": 5
}
