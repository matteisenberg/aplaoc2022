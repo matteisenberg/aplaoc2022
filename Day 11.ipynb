{
 "cells": [
  {
   "cell_type": "code",
   "execution_count": 105,
   "id": "22f2a557",
   "metadata": {},
   "outputs": [
    {
     "data": {
      "text/html": [
       "<pre class=\"language-APL\">Was OFF\n",
       "</pre>"
      ]
     },
     "execution_count": 105,
     "metadata": {},
     "output_type": "execute_result"
    }
   ],
   "source": [
    "ti ← ⊃⎕NGET 'day11ti.txt' 1\n",
    "pi ← ⊃⎕NGET 'day11.txt' 1\n",
    "⎕IO ← 0\n",
    "]rows on"
   ]
  },
  {
   "cell_type": "code",
   "execution_count": 140,
   "id": "ddf6ebb5",
   "metadata": {},
   "outputs": [],
   "source": [
    "]dinput\n",
    "parsem ← {\n",
    "    ⍺ ← '' '' '' '' '' '' ⍝ itemlists, operation, test, iftrue, iffalse, num inspected\n",
    "    0=≢⍵: ⍺   ⍝ if right arg is empty, return accumulator\n",
    "    itemlists  ← 0⊃⍺\n",
    "    ops        ← 1⊃⍺\n",
    "    tests      ← 2⊃⍺\n",
    "    trues    ← 3⊃⍺\n",
    "    falses   ← 4⊃⍺\n",
    "    inspected ← 5⊃⍺\n",
    "    \n",
    "    head ← ⊃⍵\n",
    "    startitems ← ⍎18↓1⊃head\n",
    "    op  ←  '\\*'⎕R'×' ⊢ 22↓2⊃head ⍝ replace * with ×\n",
    "    test ← ⍎21↓3⊃head\n",
    "    true ← ⍎29↓4⊃head\n",
    "    false ← ⍎29↓5⊃head\n",
    "    \n",
    "    (itemlists,⊂startitems) (ops,⊂op) (tests,test) (trues,true) (falses,false) (inspected,0)∇1↓⍵ ⍝ starting items\n",
    "    }"
   ]
  },
  {
   "cell_type": "code",
   "execution_count": 19,
   "id": "1233acc8",
   "metadata": {},
   "outputs": [],
   "source": [
    "]dinput\n",
    "round ← {\n",
    "    ⍺ ← 0 ⍝ monkey we are working on\n",
    "    ⍺=≢⊃⍵: ⍵ ⍝ if tally of monkeys = ⍺, return state\n",
    "    \n",
    "    newms ← ⍺ turn ⍵ ⍝ new monkey state\n",
    "\n",
    "    (⍺+1)∇newms\n",
    "    }"
   ]
  },
  {
   "cell_type": "code",
   "execution_count": 142,
   "id": "b7e58556",
   "metadata": {},
   "outputs": [],
   "source": [
    "]dinput\n",
    "turn ← {\n",
    "    items ← ⍺⊃⊃⍵\n",
    "    0=≢items: ⍵\n",
    "    op ← ⍺⊃1⊃⍵\n",
    "    new ← {⌊(⍎('old ',op))÷3 ⊣ old ← ⍵}¨items ⍝ return a new list of items based on the operation\n",
    "    test ← ⍺⊃2⊃⍵\n",
    "    passes ← 0=test|¨new\n",
    "    fails  ← 0≠test|¨new\n",
    "    true ← ⍺⊃3⊃⍵\n",
    "    false ← ⍺⊃4⊃⍵\n",
    "    titems ← (true⊃⊃⍵),(passes/new)\n",
    "    fitems ← (false⊃⊃⍵),(fails/new)\n",
    "    ws1 ← (⊂titems)@(⊂0 true)⊢⍵\n",
    "    ws2 ← (⊂fitems)@(⊂0 false)⊢ws1\n",
    "    ws3 ← (⊂'')@(⊂0 ⍺)⊢ws2 ⍝ empty out this monkey's items\n",
    "    inspected ← ⍺⊃5⊃⍵\n",
    "    ws4 ← (⊂inspected+≢items)@(⊂5 ⍺)⊢ws3\n",
    "    ws4\n",
    "    }"
   ]
  },
  {
   "cell_type": "code",
   "execution_count": 152,
   "id": "1d7ef728",
   "metadata": {},
   "outputs": [
    {
     "data": {
      "text/html": [
       "<pre class=\"language-APL\">95472\n",
       "</pre>"
      ]
     },
     "execution_count": 152,
     "metadata": {},
     "output_type": "execute_result"
    }
   ],
   "source": [
    "ms ← parsem {(''∘≢¨⍵)⊆⍵}pi\n",
    "part1 ← ×/2↑insps[⍒insps] ⊣ insps ← 5⌷↑round⍣20 ⊢ ms\n",
    "part1"
   ]
  }
 ],
 "metadata": {
  "kernelspec": {
   "display_name": "Dyalog APL",
   "language": "apl",
   "name": "dyalog-kernel"
  },
  "language_info": {
   "file_extension": ".apl",
   "mimetype": "text/apl",
   "name": "APL"
  }
 },
 "nbformat": 4,
 "nbformat_minor": 5
}
