{
 "cells": [
  {
   "cell_type": "code",
   "execution_count": 1,
   "id": "8ce674fc",
   "metadata": {},
   "outputs": [
    {
     "data": {
      "text/html": [
       "<pre class=\"language-APL\">┌→────────────────┐\n",
       "│Was ON -style=max│\n",
       "└─────────────────┘\n",
       "</pre>"
      ]
     },
     "execution_count": 1,
     "metadata": {},
     "output_type": "execute_result"
    }
   ],
   "source": [
    "]box on -style=max"
   ]
  },
  {
   "cell_type": "code",
   "execution_count": 1,
   "id": "bf98309d",
   "metadata": {},
   "outputs": [],
   "source": [
    "ti ← ⊃⎕NGET 'day05ti.txt'1\n",
    "pi ← ⊃⎕NGET 'day05.txt'1"
   ]
  },
  {
   "cell_type": "code",
   "execution_count": 80,
   "id": "1c6ea19e",
   "metadata": {},
   "outputs": [],
   "source": [
    "partitioned ← {(''∘≢¨⍵)⊆⍵}pi\n",
    "rawstacks ← 1⊃partitioned\n",
    "moves ← ↓⎕CSV ('\\D+'⎕R','⊢(2⊃partitioned)) '' (0 2 2 2) \n",
    "⍝ replace non digits with commas; ignore first column"
   ]
  },
  {
   "cell_type": "code",
   "execution_count": null,
   "id": "8e28e82f",
   "metadata": {},
   "outputs": [],
   "source": [
    "ns ← ' '⎕R''⊢¨↓⍉¯1↓↑('\\W'⎕R' '⊢rawstacks) \n",
    "⍝ replace chars with spaces, matrix, drop bottom row, transpose\n",
    "⍝ split to nested, remove spaces from each nested vector\n",
    "select ← ''∘≢¨ns ⍝ \n",
    "stacks ← select/ns\n",
    "stacks"
   ]
  },
  {
   "cell_type": "code",
   "execution_count": 78,
   "id": "4be3070f",
   "metadata": {},
   "outputs": [],
   "source": [
    "]dinput\n",
    "move ← {\n",
    "    qty ← 1⊃⍵\n",
    "    from ← 2⊃⍵\n",
    "    to ← 3⊃⍵\n",
    "    crates ← ⌽qty↑from⊃⍺ ⍝ reverse to simulate 1 at a time\n",
    "    new1 ← qty↓from⊃⍺\n",
    "    new2 ← crates,to⊃⍺\n",
    "    res0 ← (⊂new1)(@from)⍺\n",
    "    (⊂new2)(@to)res0\n",
    "    }"
   ]
  },
  {
   "cell_type": "code",
   "execution_count": 79,
   "id": "81210729",
   "metadata": {},
   "outputs": [
    {
     "data": {
      "text/html": [
       "<pre class=\"language-APL\">┌─┬─┬────┐\n",
       "│C│M│ZNDP│\n",
       "└─┴─┴────┘\n",
       "</pre>"
      ]
     },
     "execution_count": 79,
     "metadata": {},
     "output_type": "execute_result"
    }
   ],
   "source": [
    "⍝ ⊃¨(((move (1 2 1)) move 3 1 3) move 2 2 1) move 1 1 2\n",
    "move foldl moves"
   ]
  },
  {
   "cell_type": "code",
   "execution_count": 77,
   "id": "4bec7c87",
   "metadata": {},
   "outputs": [],
   "source": [
    "]dinput\n",
    "foldl ← {                 ⍝ Fold (reduce) from the left.\n",
    "    ⍺ ← stacks            ⍝ Default initial value for accumulator\n",
    "    ↑⍺⍺⍨/(⌽⍵),⊂⍺        \n",
    "}"
   ]
  },
  {
   "cell_type": "code",
   "execution_count": 56,
   "id": "8964061f",
   "metadata": {},
   "outputs": [
    {
     "data": {
      "text/html": [
       "<pre class=\"language-APL\">┌─────┬─────┬─────┬─────┐\n",
       "│1 2 1│3 1 3│2 2 1│1 1 2│\n",
       "└─────┴─────┴─────┴─────┘\n",
       "</pre>"
      ]
     },
     "execution_count": 56,
     "metadata": {},
     "output_type": "execute_result"
    }
   ],
   "source": [
    "moves"
   ]
  }
 ],
 "metadata": {
  "kernelspec": {
   "display_name": "Dyalog APL",
   "language": "apl",
   "name": "dyalog-kernel"
  },
  "language_info": {
   "file_extension": ".apl",
   "mimetype": "text/apl",
   "name": "APL"
  }
 },
 "nbformat": 4,
 "nbformat_minor": 5
}
