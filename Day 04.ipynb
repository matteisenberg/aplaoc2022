{
 "cells": [
  {
   "cell_type": "code",
   "execution_count": 19,
   "id": "ab0f7689",
   "metadata": {},
   "outputs": [
    {
     "data": {
      "text/html": [
       "<pre class=\"language-APL\">┌→────────────────┐\n",
       "│Was ON -style=max│\n",
       "└─────────────────┘\n",
       "</pre>"
      ]
     },
     "execution_count": 19,
     "metadata": {},
     "output_type": "execute_result"
    }
   ],
   "source": [
    "]box on -style=max"
   ]
  },
  {
   "cell_type": "code",
   "execution_count": 2,
   "id": "cd686157",
   "metadata": {},
   "outputs": [],
   "source": [
    "ti ← ⊃⎕NGET 'day04ti.txt'1\n",
    "pi ← ⊃⎕NGET 'day04.txt'1"
   ]
  },
  {
   "cell_type": "code",
   "execution_count": 126,
   "id": "2038d629",
   "metadata": {},
   "outputs": [
    {
     "data": {
      "text/html": [
       "<pre class=\"language-APL\">┌→──────┐\n",
       "↓2 4 6 8│\n",
       "│2 3 4 5│\n",
       "│5 7 7 9│\n",
       "│2 8 3 7│\n",
       "│6 6 4 6│\n",
       "│2 6 4 8│\n",
       "└~──────┘\n",
       "</pre>"
      ]
     },
     "execution_count": 126,
     "metadata": {},
     "output_type": "execute_result"
    }
   ],
   "source": [
    "mat ← ⎕CSV ('\\W+'⎕R','⊢ti) '' 4 ⍝ ⎕R find and replace the input stream, \n",
    "                          ⍝ default encoding, ignore characters\n",
    "mat"
   ]
  },
  {
   "cell_type": "code",
   "execution_count": 168,
   "id": "34b659cd",
   "metadata": {},
   "outputs": [
    {
     "data": {
      "text/html": [
       "<pre class=\"language-APL\">┌→──────┐\n",
       "│2 4 6 8│\n",
       "└~──────┘\n",
       "</pre>"
      ]
     },
     "execution_count": 168,
     "metadata": {},
     "output_type": "execute_result"
    },
    {
     "data": {
      "text/html": [
       "<pre class=\"language-APL\">┌→──────┐\n",
       "│6 8 2 4│\n",
       "└~──────┘\n",
       "</pre>"
      ]
     },
     "execution_count": 168,
     "metadata": {},
     "output_type": "execute_result"
    }
   ],
   "source": [
    "row ← 1⌷mat\n",
    "row\n",
    "2⌽row"
   ]
  },
  {
   "cell_type": "code",
   "execution_count": 128,
   "id": "60384f57",
   "metadata": {},
   "outputs": [
    {
     "data": {
      "text/html": [
       "<pre class=\"language-APL\"> \n",
       "1\n",
       " \n",
       "</pre>"
      ]
     },
     "execution_count": 128,
     "metadata": {},
     "output_type": "execute_result"
    }
   ],
   "source": [
    "btw ← {(⊃⍵≥3⊃⍵)∧(⊃⍵≤4⊃⍵)}∧{(2⊃⍵≥3⊃⍵)∧(2⊃⍵≤4⊃⍵)} ⍝ straightforward \"between\"\n",
    "con ← {btw ⍵∨btw 2⌽⍵} ⍝ contains for the first two columns, rotate for the second two\n",
    "con row"
   ]
  },
  {
   "cell_type": "code",
   "execution_count": 127,
   "id": "fabebb3b",
   "metadata": {},
   "outputs": [],
   "source": [
    "part1 ← +/con¨↓mat"
   ]
  },
  {
   "cell_type": "code",
   "execution_count": 174,
   "id": "4d7d095a",
   "metadata": {},
   "outputs": [
    {
     "data": {
      "text/html": [
       "<pre class=\"language-APL\">┌⊖┐\n",
       "│0│\n",
       "└~┘\n",
       "</pre>"
      ]
     },
     "execution_count": 174,
     "metadata": {},
     "output_type": "execute_result"
    }
   ],
   "source": [
    "range ← {(1⊃⍵),(1⊃⍵)+⍳(2⊃⍵-1⊃⍵)} ⍝ given two ascending integers, return vector of ints\n",
    "ovlp ← {(range ⍵) ∩ (range 2⌽⍵)} \n",
    "ovlp row"
   ]
  },
  {
   "cell_type": "code",
   "execution_count": 175,
   "id": "42148644",
   "metadata": {},
   "outputs": [
    {
     "data": {
      "text/html": [
       "<pre class=\"language-APL\">┌→────────────────────────────────────┐\n",
       "│ ┌⊖┐ ┌⊖┐ ┌→┐ ┌→────────┐ ┌→┐ ┌→────┐ │\n",
       "│ │0│ │0│ │7│ │3 4 5 6 7│ │6│ │4 5 6│ │\n",
       "│ └~┘ └~┘ └~┘ └~────────┘ └~┘ └~────┘ │\n",
       "└∊────────────────────────────────────┘\n",
       "</pre>"
      ]
     },
     "execution_count": 175,
     "metadata": {},
     "output_type": "execute_result"
    }
   ],
   "source": [
    "part2 ← /ovlp¨↓mat\n",
    "part2"
   ]
  }
 ],
 "metadata": {
  "kernelspec": {
   "display_name": "Dyalog APL",
   "language": "apl",
   "name": "dyalog-kernel"
  },
  "language_info": {
   "file_extension": ".apl",
   "mimetype": "text/apl",
   "name": "APL"
  }
 },
 "nbformat": 4,
 "nbformat_minor": 5
}
