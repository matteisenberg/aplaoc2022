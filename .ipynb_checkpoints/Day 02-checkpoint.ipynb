{
 "cells": [
  {
   "cell_type": "code",
   "execution_count": 1,
   "id": "5492fa4c",
   "metadata": {},
   "outputs": [],
   "source": [
    "ti ← ⊃⎕NGET 'day02ti.txt' 1\n",
    "pi ← ⊃⎕NGET 'day02.txt' 1"
   ]
  },
  {
   "cell_type": "code",
   "execution_count": 5,
   "id": "312771a5",
   "metadata": {},
   "outputs": [
    {
     "data": {
      "text/html": [
       "<span style=\"white-space:pre; font-family: monospace\">┌→──────────────────┐\n",
       "│ ┌→──┐ ┌→──┐ ┌→──┐ │\n",
       "│ │A Y│ │B X│ │C Z│ │\n",
       "│ └───┘ └───┘ └───┘ │\n",
       "└∊──────────────────┘\n",
       "</span>"
      ]
     },
     "execution_count": 5,
     "metadata": {},
     "output_type": "execute_result"
    }
   ],
   "source": [
    "]display ti"
   ]
  },
  {
   "cell_type": "code",
   "execution_count": 61,
   "id": "8bf6b4e2",
   "metadata": {},
   "outputs": [],
   "source": [
    "]dinput\n",
    "part1 ← {\n",
    "    plays ← ,'ABC'∘.{⍺,' ',⍵}'XYZ' ⍝ ravel the product of XYZ and ABC\n",
    "    idx ← ⍵∘≡¨plays\n",
    "    scores ← 4 8 3 1 5 9 7 2 6\n",
    "    idx/scores\n",
    "}"
   ]
  },
  {
   "cell_type": "code",
   "execution_count": 66,
   "id": "abcd2a96",
   "metadata": {},
   "outputs": [
    {
     "data": {
      "text/html": [
       "<span style=\"white-space:pre; font-family: monospace\"> 17189 \n",
       "</span>"
      ]
     },
     "execution_count": 66,
     "metadata": {},
     "output_type": "execute_result"
    }
   ],
   "source": [
    "+/part1¨pi"
   ]
  },
  {
   "cell_type": "code",
   "execution_count": 69,
   "id": "a56f518e",
   "metadata": {},
   "outputs": [],
   "source": [
    "]dinput\n",
    "part2 ← {\n",
    "    plays ← ,'ABC'∘.{⍺,' ',⍵}'XYZ' ⍝ ravel the product of XYZ and ABC\n",
    "    idx ← ⍵∘≡¨plays\n",
    "    scores ← 3 4 8 1 5 9 2 6 7\n",
    "    idx/scores\n",
    "}"
   ]
  },
  {
   "cell_type": "code",
   "execution_count": 70,
   "id": "1e97c6a5",
   "metadata": {},
   "outputs": [
    {
     "data": {
      "text/html": [
       "<span style=\"white-space:pre; font-family: monospace\"> 13490 \n",
       "</span>"
      ]
     },
     "execution_count": 70,
     "metadata": {},
     "output_type": "execute_result"
    }
   ],
   "source": [
    "+/part2¨pi"
   ]
  }
 ],
 "metadata": {
  "kernelspec": {
   "display_name": "Dyalog APL",
   "language": "apl",
   "name": "dyalog-kernel"
  },
  "language_info": {
   "file_extension": ".apl",
   "mimetype": "text/apl",
   "name": "APL"
  }
 },
 "nbformat": 4,
 "nbformat_minor": 5
}
