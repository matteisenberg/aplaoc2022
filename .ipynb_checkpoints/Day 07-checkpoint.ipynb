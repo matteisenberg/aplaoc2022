{
 "cells": [
  {
   "cell_type": "code",
   "execution_count": null,
   "id": "2110bc6c",
   "metadata": {},
   "outputs": [],
   "source": [
    "]box on -style=max\n",
    "]rows -style=wrap"
   ]
  },
  {
   "cell_type": "code",
   "execution_count": null,
   "id": "ec7adf78",
   "metadata": {},
   "outputs": [],
   "source": [
    "ti ← ⊃⎕NGET 'day07ti.txt' 1\n",
    "pi ← ⊃⎕NGET 'day07.txt' 1"
   ]
  },
  {
   "cell_type": "code",
   "execution_count": 36,
   "id": "05a6c6d0",
   "metadata": {},
   "outputs": [
    {
     "data": {
      "text/html": [
       "<pre class=\"language-APL\">┌──────┬────┬─────┬──────────────┬─────────────┬─────┬──────┬────┬─────┬───────\n",
       "│$ cd /│$ ls│dir a│14848514 b.txt│8504156 c.dat│dir d│$ cd a│$ ls│dir e│29116 f\n",
       "└──────┴────┴─────┴──────────────┴─────────────┴─────┴──────┴────┴─────┴───────\n",
       "      ┬──────┬───────────┬──────┬────┬─────┬───────┬───────┬──────┬────┬───────\n",
       "      │2557 g│62596 h.lst│$ cd e│$ ls│584 i│$ cd ..│$ cd ..│$ cd d│$ ls│4060174\n",
       "      ┴──────┴───────────┴──────┴────┴─────┴───────┴───────┴──────┴────┴───────\n",
       "      ──┬─────────────┬─────────────┬─────────┐\n",
       "       j│8033020 d.log│5626152 d.ext│7214296 k│\n",
       "      ──┴─────────────┴─────────────┴─────────┘\n",
       "</pre>"
      ]
     },
     "execution_count": 36,
     "metadata": {},
     "output_type": "execute_result"
    }
   ],
   "source": [
    "ti"
   ]
  },
  {
   "cell_type": "code",
   "execution_count": 254,
   "id": "49b188af",
   "metadata": {},
   "outputs": [],
   "source": [
    "]dinput\n",
    "makePaths ← {\n",
    "    ⍺ ← '' (1 2⍴⍬)    ⍝ Left arg defaults\n",
    "    0=≢⍵: ⍺               ⍝ If right arg is empty, return left arg\n",
    "    path ← 1⊃⍺\n",
    "    files ← 2⊃⍺\n",
    "    \n",
    "    '$ ls'≡4↑⊃⍵: (⍺)∇1↓⍵                ⍝ skip the ls statements \n",
    "    'dir '≡4↑⊃⍵: (⍺)∇1↓⍵                ⍝ skip the dirs they are 0\n",
    "    '$ cd ..'≡7↑⊃⍵: (¯1↓path) files∇1↓⍵ ⍝ pop one off the end of path \n",
    "    '$ cd'≡4↑⊃⍵: (path,⊂(5↓⊃⍵),'/') files∇1↓⍵ ⍝ add dir to the path\n",
    "\n",
    "    file ← ⍎((⊃⍵)⍳' ')↑⊃⍵ ⍝ take everything left of the space, convert to int\n",
    "    path (files⍪1 2⍴(⊂∊path),⊂file)∇1↓⍵          ⍝ else, Add head to acc, \n",
    "}"
   ]
  },
  {
   "cell_type": "code",
   "execution_count": 257,
   "id": "b7fbcb3e",
   "metadata": {},
   "outputs": [
    {
     "data": {
      "text/html": [
       "<pre class=\"language-APL\">┌──────────────┬──┐\n",
       "│0 0           │1 │\n",
       "├──────────────┼──┤\n",
       "│┌──┬────────┐ │2 │\n",
       "││//│14848514│ │  │\n",
       "│└──┴────────┘ │  │\n",
       "├──────────────┼──┤\n",
       "│┌──┬───────┐  │3 │\n",
       "││//│8504156│  │  │\n",
       "│└──┴───────┘  │  │\n",
       "├──────────────┼──┤\n",
       "│┌────┬─────┐  │4 │\n",
       "││//a/│29116│  │  │\n",
       "│└────┴─────┘  │  │\n",
       "├──────────────┼──┤\n",
       "│┌────┬────┐   │5 │\n",
       "││//a/│2557│   │  │\n",
       "│└────┴────┘   │  │\n",
       "├──────────────┼──┤\n",
       "│┌────┬─────┐  │6 │\n",
       "││//a/│62596│  │  │\n",
       "│└────┴─────┘  │  │\n",
       "├──────────────┼──┤\n",
       "│┌──────┬───┐  │7 │\n",
       "││//a/e/│584│  │  │\n",
       "│└──────┴───┘  │  │\n",
       "├──────────────┼──┤\n",
       "│┌────┬───────┐│8 │\n",
       "││//d/│4060174││  │\n",
       "│└────┴───────┘│  │\n",
       "├──────────────┼──┤\n",
       "│┌────┬───────┐│9 │\n",
       "││//d/│8033020││  │\n",
       "│└────┴───────┘│  │\n",
       "├──────────────┼──┤\n",
       "│┌────┬───────┐│10│\n",
       "││//d/│5626152││  │\n",
       "│└────┴───────┘│  │\n",
       "├──────────────┼──┤\n",
       "│┌────┬───────┐│11│\n",
       "││//d/│7214296││  │\n",
       "│└────┴───────┘│  │\n",
       "└──────────────┴──┘\n",
       "</pre>"
      ]
     },
     "execution_count": 257,
     "metadata": {},
     "output_type": "execute_result"
    }
   ],
   "source": [
    "{⍺⍵}⌸ 2⊃makePaths ti"
   ]
  },
  {
   "cell_type": "code",
   "execution_count": 249,
   "id": "ecba312e",
   "metadata": {},
   "outputs": [
    {
     "data": {
      "text/html": [
       "<pre class=\"language-APL\">  \n",
       "</pre>"
      ]
     },
     "execution_count": 249,
     "metadata": {},
     "output_type": "execute_result"
    }
   ],
   "source": [
    "1 2⍴''"
   ]
  }
 ],
 "metadata": {
  "kernelspec": {
   "display_name": "Dyalog APL",
   "language": "apl",
   "name": "dyalog-kernel"
  },
  "language_info": {
   "file_extension": ".apl",
   "mimetype": "text/apl",
   "name": "APL"
  }
 },
 "nbformat": 4,
 "nbformat_minor": 5
}
