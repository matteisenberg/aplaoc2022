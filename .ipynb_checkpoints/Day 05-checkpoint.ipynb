{
 "cells": [
  {
   "cell_type": "code",
   "execution_count": 1,
   "id": "09bb0913",
   "metadata": {},
   "outputs": [
    {
     "data": {
      "text/html": [
       "<pre class=\"language-APL\">┌→────────────────┐\n",
       "│Was ON -style=max│\n",
       "└─────────────────┘\n",
       "</pre>"
      ]
     },
     "execution_count": 1,
     "metadata": {},
     "output_type": "execute_result"
    }
   ],
   "source": [
    "]box on -style=max"
   ]
  },
  {
   "cell_type": "code",
   "execution_count": 122,
   "id": "43437f4f",
   "metadata": {},
   "outputs": [],
   "source": [
    "ti ← ⊃⎕NGET 'day05ti.txt'1\n",
    "pi ← ⊃⎕NGET 'day05.txt'1"
   ]
  },
  {
   "cell_type": "code",
   "execution_count": 135,
   "id": "1c8f200f",
   "metadata": {},
   "outputs": [],
   "source": [
    "partitioned ← {(''∘≢¨⍵)⊆⍵}ti\n",
    "rawstacks ← 1⊃partitioned\n",
    "moves ← ⎕CSV ('\\D+'⎕R','⊢(2⊃partitioned)) '' (0 2 2 2) \n",
    "⍝ replace non digits with commas; ignore first column"
   ]
  },
  {
   "cell_type": "code",
   "execution_count": 188,
   "id": "b18f8279",
   "metadata": {},
   "outputs": [
    {
     "data": {
      "text/html": [
       "<pre class=\"language-APL\">┌→───────────────┐\n",
       "│ ┌→─┐ ┌→──┐ ┌→┐ │\n",
       "│ │NZ│ │DCM│ │P│ │\n",
       "│ └──┘ └───┘ └─┘ │\n",
       "└∊───────────────┘\n",
       "</pre>"
      ]
     },
     "execution_count": 188,
     "metadata": {},
     "output_type": "execute_result"
    }
   ],
   "source": [
    "ns ← ' '⎕R''⊢¨↓⍉¯1↓↑('\\W'⎕R' '⊢rawstacks) \n",
    "⍝ replace chars with spaces, matrix, drop bottom row, transpose\n",
    "⍝ split to nested, remove spaces from each nested vector\n",
    "select ← ''∘≢¨ns ⍝ \n",
    "stacks ← select/ns\n",
    "stacks"
   ]
  },
  {
   "cell_type": "code",
   "execution_count": 189,
   "id": "3a26ed0b",
   "metadata": {},
   "outputs": [
    {
     "data": {
      "text/html": [
       "<pre class=\"language-APL\">┌→────┐\n",
       "↓1 2 1│\n",
       "│3 1 3│\n",
       "│2 2 1│\n",
       "│1 1 2│\n",
       "└~────┘\n",
       "</pre>"
      ]
     },
     "execution_count": 189,
     "metadata": {},
     "output_type": "execute_result"
    },
    {
     "data": {
      "text/html": [
       "<pre class=\"language-APL\"> \n",
       "D\n",
       "-\n",
       "</pre>"
      ]
     },
     "execution_count": 189,
     "metadata": {},
     "output_type": "execute_result"
    }
   ],
   "source": [
    "⍝ move # from # to #\n",
    "moves\n",
    "1⊃2⊃stacks"
   ]
  },
  {
   "cell_type": "code",
   "execution_count": 265,
   "id": "e9d093ce",
   "metadata": {},
   "outputs": [],
   "source": [
    "]dinput\n",
    "move ← {\n",
    "    qty ← 1⊃⍵\n",
    "    from ← 2⊃⍵\n",
    "    to ← 3⊃⍵\n",
    "    crates ← qty↑from⊃⍺\n",
    "    new1 ← qty↓from⊃⍺\n",
    "    new2 ← crates,to⊃⍺\n",
    "    res0 ← (⊂new1)(@from)stacks\n",
    "    (⊂new2)(@to)res0\n",
    "}"
   ]
  },
  {
   "cell_type": "code",
   "execution_count": 266,
   "id": "e98a9f5e",
   "metadata": {},
   "outputs": [
    {
     "data": {
      "text/html": [
       "<pre class=\"language-APL\">┌→───────────────┐\n",
       "│ ┌→──┐ ┌→─┐ ┌→┐ │\n",
       "│ │DNZ│ │CM│ │P│ │\n",
       "│ └───┘ └──┘ └─┘ │\n",
       "└∊───────────────┘\n",
       "</pre>"
      ]
     },
     "execution_count": 266,
     "metadata": {},
     "output_type": "execute_result"
    }
   ],
   "source": [
    "stacks move 1 2 1"
   ]
  },
  {
   "cell_type": "code",
   "execution_count": 245,
   "id": "91239b27",
   "metadata": {},
   "outputs": [
    {
     "data": {
      "text/html": [
       "<pre class=\"language-APL\">┌→─┐\n",
       "│CM│\n",
       "└──┘\n",
       "</pre>"
      ]
     },
     "execution_count": 245,
     "metadata": {},
     "output_type": "execute_result"
    },
    {
     "data": {
      "text/html": [
       "<pre class=\"language-APL\">┌→───────────┐\n",
       "│ ┌→─┐   ┌→┐ │\n",
       "│ │NZ│ 1 │P│ │\n",
       "│ └──┘   └─┘ │\n",
       "└∊───────────┘\n",
       "</pre>"
      ]
     },
     "execution_count": 245,
     "metadata": {},
     "output_type": "execute_result"
    }
   ],
   "source": [
    "new1\n",
    "(1@2) stacks"
   ]
  },
  {
   "cell_type": "code",
   "execution_count": 262,
   "id": "308933ac",
   "metadata": {},
   "outputs": [
    {
     "data": {
      "text/html": [
       "<pre class=\"language-APL\">┌→──────────────┐\n",
       "│ ┌→─┐ ┌→─┐ ┌→┐ │\n",
       "│ │NZ│ │CM│ │P│ │\n",
       "│ └──┘ └──┘ └─┘ │\n",
       "└∊──────────────┘\n",
       "</pre>"
      ]
     },
     "execution_count": 262,
     "metadata": {},
     "output_type": "execute_result"
    }
   ],
   "source": [
    "(⊂'CM')(@2)stacks"
   ]
  }
 ],
 "metadata": {
  "kernelspec": {
   "display_name": "Dyalog APL",
   "language": "apl",
   "name": "dyalog-kernel"
  },
  "language_info": {
   "file_extension": ".apl",
   "mimetype": "text/apl",
   "name": "APL"
  }
 },
 "nbformat": 4,
 "nbformat_minor": 5
}
