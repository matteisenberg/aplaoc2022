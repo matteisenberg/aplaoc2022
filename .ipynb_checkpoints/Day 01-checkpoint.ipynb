{
 "cells": [
  {
   "cell_type": "code",
   "execution_count": 5,
   "id": "f63c5333",
   "metadata": {},
   "outputs": [],
   "source": [
    "ti ← ⊃⎕NGET 'day01ti.txt' 1\n",
    "pi ← ⊃⎕NGET 'day01.txt' 1"
   ]
  },
  {
   "cell_type": "code",
   "execution_count": 30,
   "id": "95bcd9e9",
   "metadata": {},
   "outputs": [
    {
     "data": {
      "text/html": [
       "<span style=\"white-space:pre; font-family: monospace\">72070\n",
       "</span>"
      ]
     },
     "execution_count": 30,
     "metadata": {},
     "output_type": "execute_result"
    }
   ],
   "source": [
    "part1 ← {⌈/+/¨⍎¨¨(''∘≢¨⍵)⊆⍵} pi\n",
    "part1"
   ]
  },
  {
   "cell_type": "code",
   "execution_count": 39,
   "id": "5b2918d6",
   "metadata": {},
   "outputs": [
    {
     "data": {
      "text/html": [
       "<span style=\"white-space:pre; font-family: monospace\">211805\n",
       "</span>"
      ]
     },
     "execution_count": 39,
     "metadata": {},
     "output_type": "execute_result"
    }
   ],
   "source": [
    "part2 ← {sums ← (+/¨⍎¨¨(''∘≢¨⍵)⊆⍵) ⋄ +/3↑sums[⍒sums]} pi\n",
    "part2"
   ]
  }
 ],
 "metadata": {},
 "nbformat": 4,
 "nbformat_minor": 5
}
