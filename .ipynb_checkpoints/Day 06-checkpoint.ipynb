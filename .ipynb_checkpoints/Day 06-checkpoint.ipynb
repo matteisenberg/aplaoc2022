{
 "cells": [
  {
   "cell_type": "code",
   "execution_count": 94,
   "id": "1c25f2d9",
   "metadata": {},
   "outputs": [
    {
     "data": {
      "text/html": [
       "<pre class=\"language-APL\">bvwbjplbgvbhsrlpgdmjqwftvncz\n",
       "</pre>"
      ]
     },
     "execution_count": 94,
     "metadata": {},
     "output_type": "execute_result"
    }
   ],
   "source": [
    "ti1 ← 'bvwbjplbgvbhsrlpgdmjqwftvncz'\n",
    "ti1"
   ]
  },
  {
   "cell_type": "code",
   "execution_count": 96,
   "id": "4bfe79b6",
   "metadata": {},
   "outputs": [],
   "source": [
    "wins1 ← ⊂⍤⊢⌺4⊢ti1 ⍝ sliding window of 4\n",
    "wins2 ← ¯1↓1↓wins1 ⍝ drop first and last cells,\n",
    "chvs ← {⍺}⌸¨wins2 ⍝ group the character vectors\n",
    "shapes ← ⍴¨chvs ⍝ get shape of each vector\n"
   ]
  },
  {
   "cell_type": "code",
   "execution_count": null,
   "id": "fea2ef24",
   "metadata": {},
   "outputs": [],
   "source": []
  }
 ],
 "metadata": {
  "kernelspec": {
   "display_name": "Dyalog APL",
   "language": "apl",
   "name": "dyalog-kernel"
  },
  "language_info": {
   "file_extension": ".apl",
   "mimetype": "text/apl",
   "name": "APL"
  }
 },
 "nbformat": 4,
 "nbformat_minor": 5
}
