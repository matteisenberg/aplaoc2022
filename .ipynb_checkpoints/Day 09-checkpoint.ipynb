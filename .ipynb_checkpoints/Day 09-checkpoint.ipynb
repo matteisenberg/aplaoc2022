{
 "cells": [
  {
   "cell_type": "code",
   "execution_count": 1,
   "id": "67978eed",
   "metadata": {},
   "outputs": [
    {
     "data": {
      "text/html": [
       "<pre class=\"language-APL\">Was ON -style=min\n",
       "</pre>"
      ]
     },
     "execution_count": 1,
     "metadata": {},
     "output_type": "execute_result"
    }
   ],
   "source": [
    "]box on -style=min"
   ]
  },
  {
   "cell_type": "code",
   "execution_count": 2,
   "id": "9f49a7ec",
   "metadata": {},
   "outputs": [],
   "source": [
    "ti ← ⊃⎕NGET 'day09ti.txt' 1\n",
    "ti2 ← ⊃⎕NGET 'day09ti2.txt' 1\n",
    "pi ← ⊃⎕NGET 'day09.txt' 1"
   ]
  },
  {
   "cell_type": "code",
   "execution_count": 3,
   "id": "753a993b",
   "metadata": {},
   "outputs": [],
   "source": [
    "]dinput\n",
    "moveh ← {\n",
    "    ⍺ ← ⊂0 0   ⍝ start in the origin\n",
    "    0=≢⍵: ⍺   ⍝ if right arg is empty, return accumulator\n",
    "    x ← ⊃⊃¯1↑⍺\n",
    "    y ← 2⊃⊃¯1↑⍺\n",
    "    dir ← ⊃⊃⍵\n",
    "    mag ← 2⊃⊃⍵\n",
    "    \n",
    "    'R'=dir: ⍺,(↓⍉↑(⊂x+¨⍳mag),⊂y⍨¨⍳mag)∇1↓⍵\n",
    "    'U'=dir: ⍺,(↓⍉↑(⊂x⍨¨⍳mag),⊂y+¨⍳mag)∇1↓⍵\n",
    "    'L'=dir: ⍺,(↓⍉↑(⊂x-¨⍳mag),⊂y⍨¨⍳mag)∇1↓⍵\n",
    "    'D'=dir: ⍺,(↓⍉↑(⊂x⍨¨⍳mag),⊂y-¨⍳mag)∇1↓⍵\n",
    "}"
   ]
  },
  {
   "cell_type": "code",
   "execution_count": 4,
   "id": "f56311f2",
   "metadata": {},
   "outputs": [],
   "source": [
    "motions ← {↓⍉↑(⊃¨⍵) (⍎¨2↓¨⍵)}ti2 ⍝ convert magnitudes to integers, remix\n",
    "hmoves ← moveh motions"
   ]
  },
  {
   "cell_type": "markdown",
   "id": "316665b3",
   "metadata": {},
   "source": [
    "If the head is ever **two steps directly up, down, left, or right** from the tail, the tail must also move **one** step in that direction so it remains close enough:\n",
    "\n",
    "Otherwise, if the head and tail **aren't touching** and **aren't in the same row or column**, the tail always moves **one step diagonally** to keep up:"
   ]
  },
  {
   "cell_type": "code",
   "execution_count": 9,
   "id": "7044ec5d",
   "metadata": {},
   "outputs": [],
   "source": [
    "]dinput\n",
    "movet ← {\n",
    "    ⍺ ← ⊂0 0   ⍝ start in the origin\n",
    "    0=≢⍵: ⍺   ⍝ if right arg is empty, return accumulator\n",
    "    tx ← ⊃⊃¯1↑⍺ ⋄ ty ← 2⊃⊃¯1↑⍺\n",
    "    hx ← ⊃⊃⍵ ⋄ hy ← 2⊃⊃⍵\n",
    "    d ← ⌈/|¨-⌿↑(⊃⍵)(⊃¯1↑⍺) ⍝ get the max of the differences in xs and ys\n",
    "    hmoves ← (⊂¯1 0), (⊂0 ¯1), (⊂1 0), (⊂0 1)\n",
    "    tmoves ← (⊂¯1 0), (⊂¯1 1), (⊂0 ¯1), (⊂1 0), (⊂0 1),  (⊂¯1 ¯1), (⊂1 ¯1),  (⊂1 1)\n",
    "    a ← (⊂⊃⍵)+hmoves\n",
    "    b ← (¯1↑⍺)+tmoves\n",
    "    k ← (⊂⊃⍵)+tmoves\n",
    "    \n",
    "    0=≢(a∩b): tm ← 1↑(k∩b)\n",
    "        tm ← 1↑(a∩b)\n",
    "\n",
    "    d>1: (⍺,tm)∇1↓⍵\n",
    "        ⍺,(¯1↑⍺)∇1↓⍵\n",
    "}"
   ]
  },
  {
   "cell_type": "code",
   "execution_count": 8,
   "id": "22a7dec5",
   "metadata": {},
   "outputs": [
    {
     "data": {
      "text/html": [
       "<pre class=\"language-APL\">┌───┬───┬───┬───┬───┬───┬───┬───┬───┬───┬───┬───┬───┬───┬───┬───┬───┬───┬───┬──\n",
       "│0 0│0 0│0 0│0 0│0 0│0 0│0 0│0 0│0 0│0 0│0 0│0 0│1 1│1 1│2 2│2 2│3 3│3 3│4 4│4 \n",
       "└───┴───┴───┴───┴───┴───┴───┴───┴───┴───┴───┴───┴───┴───┴───┴───┴───┴───┴───┴──\n",
       "      ─┬───┬───┬───┬───┬───┐\n",
       "      4│4 4│4 4│3 5│3 5│2 6│\n",
       "      ─┴───┴───┴───┴───┴───┘\n",
       "</pre>"
      ]
     },
     "execution_count": 8,
     "metadata": {},
     "output_type": "execute_result"
    },
    {
     "data": {
      "text/html": [
       "<pre class=\"language-APL\">┌───┬───┬───┬───┬───┬───┬───┬───┬───┬───┬───┬───┬───┬───┬───┐\n",
       "│0 0│0 0│0 0│0 0│0 0│0 0│0 0│0 0│0 0│0 0│0 0│0 0│0 0│0 0│1 1│\n",
       "└───┴───┴───┴───┴───┴───┴───┴───┴───┴───┴───┴───┴───┴───┴───┘\n",
       "</pre>"
      ]
     },
     "execution_count": 8,
     "metadata": {},
     "output_type": "execute_result"
    }
   ],
   "source": [
    "one ← movet 20↑hmoves\n",
    "two ← movet one\n",
    "three ← movet two\n",
    "four ← movet three\n",
    "five ← movet four\n",
    "six ← movet five\n",
    "⍝seven ← movet six\n",
    "⍝eight ← movet seven\n",
    "⍝nine ← movet eight\n",
    "five\n",
    "six"
   ]
  },
  {
   "cell_type": "code",
   "execution_count": 29,
   "id": "fc41b7c3",
   "metadata": {},
   "outputs": [
    {
     "data": {
      "text/html": [
       "<pre class=\"language-APL\">┌───┐\n",
       "│2 2│\n",
       "└───┘\n",
       "</pre>"
      ]
     },
     "execution_count": 29,
     "metadata": {},
     "output_type": "execute_result"
    }
   ],
   "source": [
    "hmoves ← (⊂¯1 0), (⊂0 ¯1), (⊂1 0), (⊂0 1)\n",
    "tmoves ← (⊂¯1 0), (⊂¯1 1), (⊂0 ¯1), (⊂1 0), (⊂0 1),  (⊂¯1 ¯1), (⊂1 ¯1),  (⊂1 1)\n",
    "a ← (⊂3 3)+tmoves\n",
    "b ← (⊂1 1)+tmoves\n",
    "a∩b"
   ]
  }
 ],
 "metadata": {
  "kernelspec": {
   "display_name": "Dyalog APL",
   "language": "apl",
   "name": "dyalog-kernel"
  },
  "language_info": {
   "file_extension": ".apl",
   "mimetype": "text/apl",
   "name": "APL"
  }
 },
 "nbformat": 4,
 "nbformat_minor": 5
}
