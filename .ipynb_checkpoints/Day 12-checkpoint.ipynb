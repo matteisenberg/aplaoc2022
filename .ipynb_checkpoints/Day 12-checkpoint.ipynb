{
 "cells": [
  {
   "cell_type": "code",
   "execution_count": 1,
   "id": "99f68610",
   "metadata": {},
   "outputs": [],
   "source": [
    "ti ← ⊃⎕NGET 'day12ti.txt' 1\n",
    "pi ← ⊃⎕NGET 'day12.txt' 1\n",
    "⎕IO ← 0"
   ]
  },
  {
   "cell_type": "code",
   "execution_count": 55,
   "id": "1c237753",
   "metadata": {},
   "outputs": [],
   "source": [
    "cmat ← ↑ti\n",
    "spoint ← ⊃⍸'S'=cmat\n",
    "epoint ← ⊃⍸'E'=cmat\n",
    "getelev ← {⍵='S': 0 ⋄ ⍵='E': 25 ⋄ 'abcdefghijklmnopqrstuvwxyz'⍳⍵}\n",
    "emat ← getelev¨cmat\n",
    "valpos ← ,⍳⍴cmat ⍝ valid coordinates in the matrix"
   ]
  },
  {
   "cell_type": "code",
   "execution_count": 61,
   "id": "b179e4dd",
   "metadata": {},
   "outputs": [],
   "source": [
    "]dinput\n",
    "neighbors ← {\n",
    "    ⍝ given a coordinate point, return possible neighbors\n",
    "    ce ← (⊂⍵)⊃emat      ⍝ current elevation\n",
    "    allns ← ⍵∘+¨(¯1 0) (0 ¯1) (1 0) (0 1) \n",
    "    ns←allns∩valpos ⍝ return possible NSEW neighbors \n",
    "    es ← {(⊂⍵)⊃emat}¨ns ⍝ get the neighbors' elevations\n",
    "    emask ← {1≥|ce-⍵}¨es\n",
    "    emask/ns ⍝ filter for valid elevations\n",
    "}"
   ]
  },
  {
   "cell_type": "markdown",
   "id": "bc44636d",
   "metadata": {},
   "source": [
    "```\n",
    "frontier = Queue()\n",
    "frontier.put(start )\n",
    "came_from = dict() # path A->B is stored as came_from[B] == A\n",
    "came_from[start] = None\n",
    "\n",
    "while not frontier.empty():\n",
    "   current = frontier.get()\n",
    "   for next in graph.neighbors(current):\n",
    "      if next not in came_from:\n",
    "         frontier.put(next)\n",
    "         came_from[next] = curren\n",
    "```"
   ]
  },
  {
   "cell_type": "code",
   "execution_count": 209,
   "id": "b512ac83",
   "metadata": {},
   "outputs": [],
   "source": [
    "]dinput\n",
    "bfs ← {\n",
    "    frontier ← ⊃⍵\n",
    "    camefrom ← 1⊃⍵\n",
    "    0=≢frontier: ⍵\n",
    "    \n",
    "    current ← ⊃frontier\n",
    "    ns ← neighbors current\n",
    "    next ← ns~⊃¨current\n",
    "    cf ← ns⊂⍤,⍤0 ⊢ ⊂current\n",
    "    ncf ← cf~camefrom\n",
    "    newfrontier ← ⊂ns,1↓frontier\n",
    "    newcamefrom ← camefrom,ncf\n",
    "    (newfrontier, ⊂newcamefrom)\n",
    "}"
   ]
  },
  {
   "cell_type": "code",
   "execution_count": 210,
   "id": "f633ff25",
   "metadata": {},
   "outputs": [
    {
     "name": "stderr",
     "output_type": "stream",
     "text": [
      "SYNTAX ERROR: Missing right argument\n",
      "bfs[7] next←ns~\n",
      "              ∧\n"
     ]
    },
    {
     "data": {
      "text/html": [
       "<pre class=\"language-APL\">┌─────────┬────────────────────────────────┐\n",
       "│┌───┬───┐│┌──────────┬─────────┬─────────┐│\n",
       "││1 0│0 1│││┌───┬────┐│┌───┬───┐│┌───┬───┐││\n",
       "│└───┴───┘│││0 0│None│││1 0│0 0│││0 1│0 0│││\n",
       "│         ││└───┴────┘│└───┴───┘│└───┴───┘││\n",
       "│         │└──────────┴─────────┴─────────┘│\n",
       "└─────────┴────────────────────────────────┘\n",
       "</pre>"
      ]
     },
     "execution_count": 210,
     "metadata": {},
     "output_type": "execute_result"
    },
    {
     "name": "stderr",
     "output_type": "stream",
     "text": [
      "SYNTAX ERROR: Missing right argument\n",
      "bfs[7] next←ns~\n",
      "              ∧\n"
     ]
    }
   ],
   "source": [
    "x ← bfs ((⊂0 0) (⊂(0 0) 'None'))\n",
    "x\n",
    "bfs x"
   ]
  },
  {
   "cell_type": "code",
   "execution_count": 208,
   "id": "4d8a29cc",
   "metadata": {},
   "outputs": [
    {
     "data": {
      "text/html": [
       "<pre class=\"language-APL\">┌───┐\n",
       "│2 1│\n",
       "└───┘\n",
       "</pre>"
      ]
     },
     "execution_count": 208,
     "metadata": {},
     "output_type": "execute_result"
    }
   ],
   "source": [
    "~⊃¨1⊃x"
   ]
  },
  {
   "cell_type": "markdown",
   "id": "cd727be8",
   "metadata": {},
   "source": [
    "```\n",
    "current = goal \n",
    "path = []\n",
    "while current != start: \n",
    "   path.append(current)\n",
    "   current = came_from[current]\n",
    "path.append(start) # optional\n",
    "path.reverse() # optional\n",
    "```"
   ]
  }
 ],
 "metadata": {
  "kernelspec": {
   "display_name": "Dyalog APL",
   "language": "apl",
   "name": "dyalog-kernel"
  },
  "language_info": {
   "file_extension": ".apl",
   "mimetype": "text/apl",
   "name": "APL"
  }
 },
 "nbformat": 4,
 "nbformat_minor": 5
}
