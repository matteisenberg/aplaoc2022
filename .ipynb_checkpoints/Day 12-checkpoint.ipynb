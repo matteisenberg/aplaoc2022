{
 "cells": [
  {
   "cell_type": "code",
   "execution_count": 139,
   "id": "99f68610",
   "metadata": {},
   "outputs": [],
   "source": [
    "ti ← ⊃⎕NGET 'day12ti.txt' 1\n",
    "pi ← ⊃⎕NGET 'day12.txt' 1\n",
    "⎕IO ← 0"
   ]
  },
  {
   "cell_type": "code",
   "execution_count": 140,
   "id": "1c237753",
   "metadata": {},
   "outputs": [
    {
     "data": {
      "text/html": [
       "<pre class=\"language-APL\">0 0 1 16 15 14 13 12\n",
       "0 1 2 17 24 23 23 11\n",
       "0 2 2 18 25 25 23 10\n",
       "0 2 2 19 20 21 22  9\n",
       "0 1 3  4  5  6  7  8\n",
       "</pre>"
      ]
     },
     "execution_count": 140,
     "metadata": {},
     "output_type": "execute_result"
    }
   ],
   "source": [
    "cmat ← ↑ti\n",
    "spoint ← ⊃⍸'S'=cmat\n",
    "epoint ← ⊃⍸'E'=cmat\n",
    "getelev ← {⍵='S': 0 ⋄ ⍵='E': 25 ⋄ 'abcdefghijklmnopqrstuvwxyz'⍳⍵}\n",
    "emat ← getelev¨cmat"
   ]
  },
  {
   "cell_type": "code",
   "execution_count": 212,
   "id": "86ab5a0e",
   "metadata": {},
   "outputs": [],
   "source": [
    "]dinput\n",
    "neighbors ← {\n",
    "    all ← ⍵∘+¨(¯1 0) (0 ¯1) (1 0) (0 1) \n",
    "    ((0≤⊃¨all)∧(0≤1⊃¨all))/all\n",
    "}"
   ]
  },
  {
   "cell_type": "code",
   "execution_count": 249,
   "id": "b179e4dd",
   "metadata": {},
   "outputs": [],
   "source": [
    "]dinput\n",
    "moves ← {\n",
    "    ⍝ given a set of coordinates, return possible next moves\n",
    "    ce ← (⍵)⊃emat      ⍝ current elevation\n",
    "    ns ← neighbors ⊃⍵    ⍝ get the neighbors\n",
    "    es ← {(⊂⍵)⊃emat}¨ns ⍝ get the neighbors' elevations\n",
    "    emask ← {(¯1+ce)≤⍵∧⍵≤(1+ce)}¨es ⍝ elevation mask\n",
    "    emask/ns ⍝ return possible moves\n",
    "}"
   ]
  },
  {
   "cell_type": "code",
   "execution_count": 288,
   "id": "d208def4",
   "metadata": {},
   "outputs": [],
   "source": [
    "]dinput\n",
    "step ← {\n",
    "    new ← moves ¯1↑⍵\n",
    "    ~new∊⍵\n",
    "}"
   ]
  },
  {
   "cell_type": "code",
   "execution_count": 289,
   "id": "7a42d085",
   "metadata": {},
   "outputs": [
    {
     "data": {
      "text/html": [
       "<pre class=\"language-APL\">0 1 1\n",
       "</pre>"
      ]
     },
     "execution_count": 289,
     "metadata": {},
     "output_type": "execute_result"
    }
   ],
   "source": [
    "step ((0 0)(1 0))"
   ]
  }
 ],
 "metadata": {
  "kernelspec": {
   "display_name": "Dyalog APL",
   "language": "apl",
   "name": "dyalog-kernel"
  },
  "language_info": {
   "file_extension": ".apl",
   "mimetype": "text/apl",
   "name": "APL"
  }
 },
 "nbformat": 4,
 "nbformat_minor": 5
}
