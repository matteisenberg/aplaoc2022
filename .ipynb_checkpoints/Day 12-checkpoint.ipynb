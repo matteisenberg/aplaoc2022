{
 "cells": [
  {
   "cell_type": "code",
   "execution_count": 178,
   "id": "99f68610",
   "metadata": {},
   "outputs": [
    {
     "data": {
      "text/html": [
       "<span style=\"white-space:pre; font-family: monospace\">Was OFF\n",
       "</span>"
      ]
     },
     "execution_count": 178,
     "metadata": {},
     "output_type": "execute_result"
    }
   ],
   "source": [
    "ti ← ⊃⎕NGET 'day12ti.txt' 1\n",
    "pi ← ⊃⎕NGET 'day12.txt' 1\n",
    "]rows on\n",
    "⎕IO ← 0"
   ]
  },
  {
   "cell_type": "code",
   "execution_count": 216,
   "id": "1c237753",
   "metadata": {},
   "outputs": [],
   "source": [
    "cmat ← ↑ti\n",
    "spoint ← ⊃⍸'S'=cmat\n",
    "epoint ← ⊃⍸'E'=cmat\n",
    "getelev ← {⍵='S': 0 ⋄ ⍵='E': 25 ⋄ 'abcdefghijklmnopqrstuvwxyz'⍳⍵}\n",
    "emat ← getelev¨cmat"
   ]
  },
  {
   "cell_type": "code",
   "execution_count": 91,
   "id": "86ab5a0e",
   "metadata": {},
   "outputs": [],
   "source": [
    "]dinput\n",
    "neighbors ← {\n",
    "    all ← ⍵∘+¨(¯1 0) (0 ¯1) (1 0) (0 1) \n",
    "    ((0≤⊃¨all)∧(0≤1⊃¨all)∧(maxx>⊃¨all)∧(maxy>1⊃¨all))/all ⍝ return possible NSEW neighbors, filtering out neighbors off board\n",
    "}"
   ]
  },
  {
   "cell_type": "code",
   "execution_count": 203,
   "id": "b179e4dd",
   "metadata": {},
   "outputs": [],
   "source": [
    "]dinput\n",
    "moves ← {\n",
    "    ⍝ given a set of coordinates, return possible next moves\n",
    "    ce ← (⍵)⊃emat      ⍝ current elevation\n",
    "    ns ← neighbors ⊃⍵    ⍝ get the neighbors\n",
    "    es ← {(⊂⍵)⊃emat}¨ns ⍝ get the neighbors' elevations\n",
    "    emask ← {((¯1+ce)≤⍵)∧(⍵≤(1+ce))}¨es ⍝ create elevation mask\n",
    "    emask/ns ⍝ return possible moves\n",
    "}"
   ]
  },
  {
   "cell_type": "code",
   "execution_count": 191,
   "id": "d208def4",
   "metadata": {},
   "outputs": [],
   "source": [
    "]dinput\n",
    "step ← {\n",
    "    lom ← ⍵\n",
    "    pos ← moves ¯1↑lom       ⍝ get the last position from the list of moves made\n",
    "    new ← (~pos∊lom)/pos     ⍝ remove moves we've already made\n",
    "    {lom,⊂⍵}¨new\n",
    "}"
   ]
  },
  {
   "cell_type": "code",
   "execution_count": 213,
   "id": "7a42d085",
   "metadata": {},
   "outputs": [
    {
     "name": "stderr",
     "output_type": "stream",
     "text": [
      "INTERRUPT"
     ]
    }
   ],
   "source": [
    "w ← (⊂0 0)\n",
    "x ← step w\n",
    "y ← step¨x\n",
    "\n",
    "z ← {step¨⊃,/⍵}⍣{∨/(epoint∘≡¨⊃,/¯1↑¨⊃,/⍺)} ⊢ y\n",
    "≢¨⊃,/z\n"
   ]
  },
  {
   "cell_type": "code",
   "execution_count": 258,
   "id": "03c5089e",
   "metadata": {},
   "outputs": [
    {
     "data": {
      "text/html": [
       "<span style=\"white-space:pre; font-family: monospace\">┌→────────────────────────────────┐\n",
       "│ ┌→────────────┐ ┌→────────────┐ │\n",
       "│ │ ┌→──┐ ┌→──┐ │ │ ┌→──┐ ┌→──┐ │ │\n",
       "│ │ │0 0│ │1 0│ │ │ │0 0│ │0 1│ │ │\n",
       "│ │ └~──┘ └~──┘ │ │ └~──┘ └~──┘ │ │\n",
       "│ └∊────────────┘ └∊────────────┘ │\n",
       "└∊────────────────────────────────┘\n",
       "</span>"
      ]
     },
     "execution_count": 258,
     "metadata": {},
     "output_type": "execute_result"
    },
    {
     "data": {
      "text/html": [
       "<span style=\"white-space:pre; font-family: monospace\">┌→────────────────────────────────────────────────────────────────────────────────────────────────┐\n",
       "│ ┌→────────────────────────────────────────────┐ ┌→────────────────────────────────────────────┐ │\n",
       "│ │ ┌→──────────────────┐ ┌→──────────────────┐ │ │ ┌→──────────────────┐ ┌→──────────────────┐ │ │\n",
       "│ │ │ ┌→──┐ ┌→──┐ ┌→──┐ │ │ ┌→──┐ ┌→──┐ ┌→──┐ │ │ │ │ ┌→──┐ ┌→──┐ ┌→──┐ │ │ ┌→──┐ ┌→──┐ ┌→──┐ │ │ │\n",
       "│ │ │ │0 0│ │1 0│ │2 0│ │ │ │0 0│ │1 0│ │1 1│ │ │ │ │ │0 0│ │0 1│ │1 1│ │ │ │0 0│ │0 1│ │0 2│ │ │ │\n",
       "│ │ │ └~──┘ └~──┘ └~──┘ │ │ └~──┘ └~──┘ └~──┘ │ │ │ │ └~──┘ └~──┘ └~──┘ │ │ └~──┘ └~──┘ └~──┘ │ │ │\n",
       "│ │ └∊──────────────────┘ └∊──────────────────┘ │ │ └∊──────────────────┘ └∊──────────────────┘ │ │\n",
       "│ └∊────────────────────────────────────────────┘ └∊────────────────────────────────────────────┘ │\n",
       "└∊────────────────────────────────────────────────────────────────────────────────────────────────┘\n",
       "</span>"
      ]
     },
     "execution_count": 258,
     "metadata": {},
     "output_type": "execute_result"
    },
    {
     "data": {
      "text/html": [
       "<span style=\"white-space:pre; font-family: monospace\">  \n",
       "23\n",
       "  \n",
       "</span>"
      ]
     },
     "execution_count": 258,
     "metadata": {},
     "output_type": "execute_result"
    }
   ],
   "source": [
    "x ← step ⊂(0 0)\n",
    "]display x\n",
    "y ← step¨x\n",
    "]display y\n",
    "z ← {step¨⊃,/⍵}⍣{∨/(epoint∘≡¨⊃,/¯1↑¨⊃,/⍺)} ⊢ y\n"
   ]
  }
 ],
 "metadata": {
  "kernelspec": {
   "display_name": "Dyalog APL",
   "language": "apl",
   "name": "dyalog-kernel"
  },
  "language_info": {
   "file_extension": ".apl",
   "mimetype": "text/apl",
   "name": "APL"
  }
 },
 "nbformat": 4,
 "nbformat_minor": 5
}
