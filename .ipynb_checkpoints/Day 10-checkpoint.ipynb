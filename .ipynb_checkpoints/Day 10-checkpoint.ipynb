{
 "cells": [
  {
   "cell_type": "code",
   "execution_count": 1,
   "id": "6e3ead09",
   "metadata": {},
   "outputs": [],
   "source": [
    "ti ← ⊃⎕NGET 'day10ti.txt' 1\n",
    "pi ← ⊃⎕NGET 'day10.txt' 1"
   ]
  },
  {
   "cell_type": "code",
   "execution_count": 47,
   "id": "cef1ab81",
   "metadata": {},
   "outputs": [
    {
     "data": {
      "text/html": [
       "<span style=\"white-space:pre; font-family: monospace\">15 ¯11 6 ¯3 5 ¯1 ¯8 13 4 0 ¯1 5 ¯1 5 ¯1 5 ¯1 5 ¯1 ¯35 1 24 ¯19 1 16 ¯11 0 0\n",
       "      21 ¯15 0 0 ¯3 9 1 ¯3 8 1 5 0 0 0 0 0 ¯36 0 1 7 0 0 0 2 6 0 0 0 0 0 1 0\n",
       "      0 7 1 0 ¯13 13 7 0 1 ¯33 0 0 0 2 0 0 0 8 0 ¯1 2 1 0 17 ¯9 1 1 ¯3 11 0\n",
       "      0 1 0 1 0 0 ¯13 ¯19 1 3 26 ¯30 12 ¯1 3 1 0 0 0 ¯9 18 1 2 0 0 9 0 0 0\n",
       "      ¯1 2 ¯37 1 3 0 15 ¯21 22 ¯6 1 0 2 1 0 ¯10 0 0 20 1 2 2 ¯6 ¯11 0 0 0\n",
       "</span>"
      ]
     },
     "execution_count": 47,
     "metadata": {},
     "output_type": "execute_result"
    }
   ],
   "source": [
    "ops ← {{(+/''∘≢¨⍵)≥1: ⍎⍵ ⋄ 0}¨5↓¨⍵}ti\n",
    "ops"
   ]
  },
  {
   "cell_type": "code",
   "execution_count": 68,
   "id": "6eb5484e",
   "metadata": {},
   "outputs": [
    {
     "data": {
      "text/html": [
       "<span style=\"white-space:pre; font-family: monospace\">21\n",
       "</span>"
      ]
     },
     "execution_count": 68,
     "metadata": {},
     "output_type": "execute_result"
    }
   ],
   "source": [
    "20⊃1+¨+\\∊{0≠⍵: 0,⍵ ⋄ ⍵}¨ops"
   ]
  },
  {
   "cell_type": "code",
   "execution_count": 64,
   "id": "fdfd6ab6",
   "metadata": {},
   "outputs": [
    {
     "data": {
      "text/html": [
       "<span style=\"white-space:pre; font-family: monospace\">1 1 4 4 ¯1\n",
       "</span>"
      ]
     },
     "execution_count": 64,
     "metadata": {},
     "output_type": "execute_result"
    }
   ],
   "source": [
    "1+¨+\\∊{0≠⍵: 0,⍵ ⋄ ⍵}¨(0 3 ¯5)"
   ]
  }
 ],
 "metadata": {
  "kernelspec": {
   "display_name": "Dyalog APL",
   "language": "apl",
   "name": "dyalog-kernel"
  },
  "language_info": {
   "file_extension": ".apl",
   "mimetype": "text/apl",
   "name": "APL"
  }
 },
 "nbformat": 4,
 "nbformat_minor": 5
}
